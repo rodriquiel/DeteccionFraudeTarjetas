{
  "nbformat": 4,
  "nbformat_minor": 0,
  "metadata": {
    "colab": {
      "provenance": [],
      "gpuType": "T4",
      "authorship_tag": "ABX9TyPL6nR1F7yQxo/ysxyxy38F",
      "include_colab_link": true
    },
    "kernelspec": {
      "name": "python3",
      "display_name": "Python 3"
    },
    "language_info": {
      "name": "python"
    },
    "accelerator": "GPU"
  },
  "cells": [
    {
      "cell_type": "markdown",
      "metadata": {
        "id": "view-in-github",
        "colab_type": "text"
      },
      "source": [
        "<a href=\"https://colab.research.google.com/github/rodriquiel/DeteccionFraudeTarjetas/blob/main/DeteccionFraudesTarjetas.ipynb\" target=\"_parent\"><img src=\"https://colab.research.google.com/assets/colab-badge.svg\" alt=\"Open In Colab\"/></a>"
      ]
    },
    {
      "cell_type": "markdown",
      "source": [
        "# Deteccion de fraude con tarjeta de credito"
      ],
      "metadata": {
        "id": "eJUjvnuUrrwi"
      }
    },
    {
      "cell_type": "markdown",
      "source": [
        "El dataset utilizado incluye informacion sobre transacciones realizadas con tarjetas de credito en el año 2013 por usuarios europeos. El objetivo es entrenar un modelo de clasificacion para detectar si una transaccion es legitima o no. Una transaccion pertenece a la categoria positiva (1) si se trata de un fraude y a la negativa (0) en el caso contrario.\n",
        "\n",
        "Se tiene acceso a una cantidad de transacciones realizadas en un determinado periodo de tiempo, donde la mayoria de las transacciones son legitimas y solo una pequeña franccion no lo son. Para ponerlo en numeros, del dataset utilizado solo 492 transacciones de 284.807 son fraudulentas, dando un pocentaje de tan solo 0,172%.\n",
        "\n",
        "Librerias utilizadas para el modelado: Scikit-Learn, SnapML, Numpy, Pandas, Matplotlib"
      ],
      "metadata": {
        "id": "UcBXEN9Irt_U"
      }
    },
    {
      "cell_type": "markdown",
      "source": [
        "## Import librerias"
      ],
      "metadata": {
        "id": "Epaq6wpMrwcZ"
      }
    },
    {
      "cell_type": "code",
      "execution_count": 1,
      "metadata": {
        "colab": {
          "base_uri": "https://localhost:8080/"
        },
        "id": "wg6Y-NvnrqKc",
        "outputId": "edc34fbb-5ea9-43c5-b1b4-99d2c2f19a52"
      },
      "outputs": [
        {
          "output_type": "stream",
          "name": "stdout",
          "text": [
            "Collecting snapml\n",
            "  Downloading snapml-1.15.4-cp310-cp310-manylinux_2_28_x86_64.whl (7.8 MB)\n",
            "\u001b[2K     \u001b[90m━━━━━━━━━━━━━━━━━━━━━━━━━━━━━━━━━━━━━━━━\u001b[0m \u001b[32m7.8/7.8 MB\u001b[0m \u001b[31m20.8 MB/s\u001b[0m eta \u001b[36m0:00:00\u001b[0m\n",
            "\u001b[?25hRequirement already satisfied: scikit-learn in /usr/local/lib/python3.10/dist-packages (from snapml) (1.2.2)\n",
            "Requirement already satisfied: scipy in /usr/local/lib/python3.10/dist-packages (from snapml) (1.11.4)\n",
            "Requirement already satisfied: numpy>=1.21.3 in /usr/local/lib/python3.10/dist-packages (from snapml) (1.25.2)\n",
            "Requirement already satisfied: joblib>=1.1.1 in /usr/local/lib/python3.10/dist-packages (from scikit-learn->snapml) (1.3.2)\n",
            "Requirement already satisfied: threadpoolctl>=2.0.0 in /usr/local/lib/python3.10/dist-packages (from scikit-learn->snapml) (3.2.0)\n",
            "Installing collected packages: snapml\n",
            "Successfully installed snapml-1.15.4\n"
          ]
        }
      ],
      "source": [
        "!pip install snapml"
      ]
    },
    {
      "cell_type": "code",
      "source": [
        "from __future__ import print_function\n",
        "import numpy as np\n",
        "import pandas as pd\n",
        "import matplotlib.pyplot as plt\n",
        "%matplotlib inline\n",
        "from sklearn.model_selection import train_test_split\n",
        "from sklearn.preprocessing import normalize, StandardScaler\n",
        "from sklearn.utils.class_weight import compute_sample_weight\n",
        "from sklearn.metrics import roc_auc_score\n",
        "import time\n",
        "import warnings\n",
        "warnings.filterwarnings('ignore')"
      ],
      "metadata": {
        "id": "BrONdniJr0IO"
      },
      "execution_count": 2,
      "outputs": []
    },
    {
      "cell_type": "markdown",
      "source": [
        "## Descarga dataset"
      ],
      "metadata": {
        "id": "vzPaHO9hsUz2"
      }
    },
    {
      "cell_type": "code",
      "source": [
        "url= \"https://cf-courses-data.s3.us.cloud-object-storage.appdomain.cloud/IBMDeveloperSkillsNetwork-ML0101EN-SkillsNetwork/labs/Module%203/data/creditcard.csv\"\n",
        "\n",
        "data=pd.read_csv(url)"
      ],
      "metadata": {
        "id": "qFdOUSaOsWph"
      },
      "execution_count": 3,
      "outputs": []
    },
    {
      "cell_type": "markdown",
      "source": [
        "## Analisis dataset"
      ],
      "metadata": {
        "id": "HHAtL3hDvSL2"
      }
    },
    {
      "cell_type": "markdown",
      "source": [
        "Cada fila del dataset representa una transaccion realizada, y cada columna representa una variable referida a las transacciones. Una de las variables, llamada 'Class' representa si se trata de una transaccion fraudulenta (1) o una legitima (0), por lo tanto dicha variable es la cual se busca predecir mediante la informacion brindada por las demas. La naturaleza de los valores de la variable a predecir indican que se trata de un problema de clasificacion binaria.\n",
        "\n",
        "\n",
        "Por cuestiones de confidencialidad, el nombre original de cada variable, exceptuando 'Amount', fue reemplazado por un nombre generico (Vn) dependiendo de su posicion en el dataset."
      ],
      "metadata": {
        "id": "o9BUE_m0zThD"
      }
    },
    {
      "cell_type": "code",
      "source": [
        "print(\"Cantidad de tansacciones: \" + str(len(data)))\n",
        "print(\"Cantidad de variables: \" + str(len(data.columns)))\n",
        "\n",
        "data.head()"
      ],
      "metadata": {
        "colab": {
          "base_uri": "https://localhost:8080/",
          "height": 270
        },
        "id": "3D1kVMg8vU9n",
        "outputId": "a2cea201-012c-443e-fa3c-d7ff24a5b43b"
      },
      "execution_count": 4,
      "outputs": [
        {
          "output_type": "stream",
          "name": "stdout",
          "text": [
            "Cantidad de tansacciones: 284807\n",
            "Cantidad de variables: 31\n"
          ]
        },
        {
          "output_type": "execute_result",
          "data": {
            "text/plain": [
              "   Time        V1        V2        V3        V4        V5        V6        V7  \\\n",
              "0   0.0 -1.359807 -0.072781  2.536347  1.378155 -0.338321  0.462388  0.239599   \n",
              "1   0.0  1.191857  0.266151  0.166480  0.448154  0.060018 -0.082361 -0.078803   \n",
              "2   1.0 -1.358354 -1.340163  1.773209  0.379780 -0.503198  1.800499  0.791461   \n",
              "3   1.0 -0.966272 -0.185226  1.792993 -0.863291 -0.010309  1.247203  0.237609   \n",
              "4   2.0 -1.158233  0.877737  1.548718  0.403034 -0.407193  0.095921  0.592941   \n",
              "\n",
              "         V8        V9  ...       V21       V22       V23       V24       V25  \\\n",
              "0  0.098698  0.363787  ... -0.018307  0.277838 -0.110474  0.066928  0.128539   \n",
              "1  0.085102 -0.255425  ... -0.225775 -0.638672  0.101288 -0.339846  0.167170   \n",
              "2  0.247676 -1.514654  ...  0.247998  0.771679  0.909412 -0.689281 -0.327642   \n",
              "3  0.377436 -1.387024  ... -0.108300  0.005274 -0.190321 -1.175575  0.647376   \n",
              "4 -0.270533  0.817739  ... -0.009431  0.798278 -0.137458  0.141267 -0.206010   \n",
              "\n",
              "        V26       V27       V28  Amount  Class  \n",
              "0 -0.189115  0.133558 -0.021053  149.62      0  \n",
              "1  0.125895 -0.008983  0.014724    2.69      0  \n",
              "2 -0.139097 -0.055353 -0.059752  378.66      0  \n",
              "3 -0.221929  0.062723  0.061458  123.50      0  \n",
              "4  0.502292  0.219422  0.215153   69.99      0  \n",
              "\n",
              "[5 rows x 31 columns]"
            ],
            "text/html": [
              "\n",
              "  <div id=\"df-525754ff-0367-4676-bcac-a3824b8800f0\" class=\"colab-df-container\">\n",
              "    <div>\n",
              "<style scoped>\n",
              "    .dataframe tbody tr th:only-of-type {\n",
              "        vertical-align: middle;\n",
              "    }\n",
              "\n",
              "    .dataframe tbody tr th {\n",
              "        vertical-align: top;\n",
              "    }\n",
              "\n",
              "    .dataframe thead th {\n",
              "        text-align: right;\n",
              "    }\n",
              "</style>\n",
              "<table border=\"1\" class=\"dataframe\">\n",
              "  <thead>\n",
              "    <tr style=\"text-align: right;\">\n",
              "      <th></th>\n",
              "      <th>Time</th>\n",
              "      <th>V1</th>\n",
              "      <th>V2</th>\n",
              "      <th>V3</th>\n",
              "      <th>V4</th>\n",
              "      <th>V5</th>\n",
              "      <th>V6</th>\n",
              "      <th>V7</th>\n",
              "      <th>V8</th>\n",
              "      <th>V9</th>\n",
              "      <th>...</th>\n",
              "      <th>V21</th>\n",
              "      <th>V22</th>\n",
              "      <th>V23</th>\n",
              "      <th>V24</th>\n",
              "      <th>V25</th>\n",
              "      <th>V26</th>\n",
              "      <th>V27</th>\n",
              "      <th>V28</th>\n",
              "      <th>Amount</th>\n",
              "      <th>Class</th>\n",
              "    </tr>\n",
              "  </thead>\n",
              "  <tbody>\n",
              "    <tr>\n",
              "      <th>0</th>\n",
              "      <td>0.0</td>\n",
              "      <td>-1.359807</td>\n",
              "      <td>-0.072781</td>\n",
              "      <td>2.536347</td>\n",
              "      <td>1.378155</td>\n",
              "      <td>-0.338321</td>\n",
              "      <td>0.462388</td>\n",
              "      <td>0.239599</td>\n",
              "      <td>0.098698</td>\n",
              "      <td>0.363787</td>\n",
              "      <td>...</td>\n",
              "      <td>-0.018307</td>\n",
              "      <td>0.277838</td>\n",
              "      <td>-0.110474</td>\n",
              "      <td>0.066928</td>\n",
              "      <td>0.128539</td>\n",
              "      <td>-0.189115</td>\n",
              "      <td>0.133558</td>\n",
              "      <td>-0.021053</td>\n",
              "      <td>149.62</td>\n",
              "      <td>0</td>\n",
              "    </tr>\n",
              "    <tr>\n",
              "      <th>1</th>\n",
              "      <td>0.0</td>\n",
              "      <td>1.191857</td>\n",
              "      <td>0.266151</td>\n",
              "      <td>0.166480</td>\n",
              "      <td>0.448154</td>\n",
              "      <td>0.060018</td>\n",
              "      <td>-0.082361</td>\n",
              "      <td>-0.078803</td>\n",
              "      <td>0.085102</td>\n",
              "      <td>-0.255425</td>\n",
              "      <td>...</td>\n",
              "      <td>-0.225775</td>\n",
              "      <td>-0.638672</td>\n",
              "      <td>0.101288</td>\n",
              "      <td>-0.339846</td>\n",
              "      <td>0.167170</td>\n",
              "      <td>0.125895</td>\n",
              "      <td>-0.008983</td>\n",
              "      <td>0.014724</td>\n",
              "      <td>2.69</td>\n",
              "      <td>0</td>\n",
              "    </tr>\n",
              "    <tr>\n",
              "      <th>2</th>\n",
              "      <td>1.0</td>\n",
              "      <td>-1.358354</td>\n",
              "      <td>-1.340163</td>\n",
              "      <td>1.773209</td>\n",
              "      <td>0.379780</td>\n",
              "      <td>-0.503198</td>\n",
              "      <td>1.800499</td>\n",
              "      <td>0.791461</td>\n",
              "      <td>0.247676</td>\n",
              "      <td>-1.514654</td>\n",
              "      <td>...</td>\n",
              "      <td>0.247998</td>\n",
              "      <td>0.771679</td>\n",
              "      <td>0.909412</td>\n",
              "      <td>-0.689281</td>\n",
              "      <td>-0.327642</td>\n",
              "      <td>-0.139097</td>\n",
              "      <td>-0.055353</td>\n",
              "      <td>-0.059752</td>\n",
              "      <td>378.66</td>\n",
              "      <td>0</td>\n",
              "    </tr>\n",
              "    <tr>\n",
              "      <th>3</th>\n",
              "      <td>1.0</td>\n",
              "      <td>-0.966272</td>\n",
              "      <td>-0.185226</td>\n",
              "      <td>1.792993</td>\n",
              "      <td>-0.863291</td>\n",
              "      <td>-0.010309</td>\n",
              "      <td>1.247203</td>\n",
              "      <td>0.237609</td>\n",
              "      <td>0.377436</td>\n",
              "      <td>-1.387024</td>\n",
              "      <td>...</td>\n",
              "      <td>-0.108300</td>\n",
              "      <td>0.005274</td>\n",
              "      <td>-0.190321</td>\n",
              "      <td>-1.175575</td>\n",
              "      <td>0.647376</td>\n",
              "      <td>-0.221929</td>\n",
              "      <td>0.062723</td>\n",
              "      <td>0.061458</td>\n",
              "      <td>123.50</td>\n",
              "      <td>0</td>\n",
              "    </tr>\n",
              "    <tr>\n",
              "      <th>4</th>\n",
              "      <td>2.0</td>\n",
              "      <td>-1.158233</td>\n",
              "      <td>0.877737</td>\n",
              "      <td>1.548718</td>\n",
              "      <td>0.403034</td>\n",
              "      <td>-0.407193</td>\n",
              "      <td>0.095921</td>\n",
              "      <td>0.592941</td>\n",
              "      <td>-0.270533</td>\n",
              "      <td>0.817739</td>\n",
              "      <td>...</td>\n",
              "      <td>-0.009431</td>\n",
              "      <td>0.798278</td>\n",
              "      <td>-0.137458</td>\n",
              "      <td>0.141267</td>\n",
              "      <td>-0.206010</td>\n",
              "      <td>0.502292</td>\n",
              "      <td>0.219422</td>\n",
              "      <td>0.215153</td>\n",
              "      <td>69.99</td>\n",
              "      <td>0</td>\n",
              "    </tr>\n",
              "  </tbody>\n",
              "</table>\n",
              "<p>5 rows × 31 columns</p>\n",
              "</div>\n",
              "    <div class=\"colab-df-buttons\">\n",
              "\n",
              "  <div class=\"colab-df-container\">\n",
              "    <button class=\"colab-df-convert\" onclick=\"convertToInteractive('df-525754ff-0367-4676-bcac-a3824b8800f0')\"\n",
              "            title=\"Convert this dataframe to an interactive table.\"\n",
              "            style=\"display:none;\">\n",
              "\n",
              "  <svg xmlns=\"http://www.w3.org/2000/svg\" height=\"24px\" viewBox=\"0 -960 960 960\">\n",
              "    <path d=\"M120-120v-720h720v720H120Zm60-500h600v-160H180v160Zm220 220h160v-160H400v160Zm0 220h160v-160H400v160ZM180-400h160v-160H180v160Zm440 0h160v-160H620v160ZM180-180h160v-160H180v160Zm440 0h160v-160H620v160Z\"/>\n",
              "  </svg>\n",
              "    </button>\n",
              "\n",
              "  <style>\n",
              "    .colab-df-container {\n",
              "      display:flex;\n",
              "      gap: 12px;\n",
              "    }\n",
              "\n",
              "    .colab-df-convert {\n",
              "      background-color: #E8F0FE;\n",
              "      border: none;\n",
              "      border-radius: 50%;\n",
              "      cursor: pointer;\n",
              "      display: none;\n",
              "      fill: #1967D2;\n",
              "      height: 32px;\n",
              "      padding: 0 0 0 0;\n",
              "      width: 32px;\n",
              "    }\n",
              "\n",
              "    .colab-df-convert:hover {\n",
              "      background-color: #E2EBFA;\n",
              "      box-shadow: 0px 1px 2px rgba(60, 64, 67, 0.3), 0px 1px 3px 1px rgba(60, 64, 67, 0.15);\n",
              "      fill: #174EA6;\n",
              "    }\n",
              "\n",
              "    .colab-df-buttons div {\n",
              "      margin-bottom: 4px;\n",
              "    }\n",
              "\n",
              "    [theme=dark] .colab-df-convert {\n",
              "      background-color: #3B4455;\n",
              "      fill: #D2E3FC;\n",
              "    }\n",
              "\n",
              "    [theme=dark] .colab-df-convert:hover {\n",
              "      background-color: #434B5C;\n",
              "      box-shadow: 0px 1px 3px 1px rgba(0, 0, 0, 0.15);\n",
              "      filter: drop-shadow(0px 1px 2px rgba(0, 0, 0, 0.3));\n",
              "      fill: #FFFFFF;\n",
              "    }\n",
              "  </style>\n",
              "\n",
              "    <script>\n",
              "      const buttonEl =\n",
              "        document.querySelector('#df-525754ff-0367-4676-bcac-a3824b8800f0 button.colab-df-convert');\n",
              "      buttonEl.style.display =\n",
              "        google.colab.kernel.accessAllowed ? 'block' : 'none';\n",
              "\n",
              "      async function convertToInteractive(key) {\n",
              "        const element = document.querySelector('#df-525754ff-0367-4676-bcac-a3824b8800f0');\n",
              "        const dataTable =\n",
              "          await google.colab.kernel.invokeFunction('convertToInteractive',\n",
              "                                                    [key], {});\n",
              "        if (!dataTable) return;\n",
              "\n",
              "        const docLinkHtml = 'Like what you see? Visit the ' +\n",
              "          '<a target=\"_blank\" href=https://colab.research.google.com/notebooks/data_table.ipynb>data table notebook</a>'\n",
              "          + ' to learn more about interactive tables.';\n",
              "        element.innerHTML = '';\n",
              "        dataTable['output_type'] = 'display_data';\n",
              "        await google.colab.output.renderOutput(dataTable, element);\n",
              "        const docLink = document.createElement('div');\n",
              "        docLink.innerHTML = docLinkHtml;\n",
              "        element.appendChild(docLink);\n",
              "      }\n",
              "    </script>\n",
              "  </div>\n",
              "\n",
              "\n",
              "<div id=\"df-9434f2fc-edcc-4090-82af-8792c931351b\">\n",
              "  <button class=\"colab-df-quickchart\" onclick=\"quickchart('df-9434f2fc-edcc-4090-82af-8792c931351b')\"\n",
              "            title=\"Suggest charts\"\n",
              "            style=\"display:none;\">\n",
              "\n",
              "<svg xmlns=\"http://www.w3.org/2000/svg\" height=\"24px\"viewBox=\"0 0 24 24\"\n",
              "     width=\"24px\">\n",
              "    <g>\n",
              "        <path d=\"M19 3H5c-1.1 0-2 .9-2 2v14c0 1.1.9 2 2 2h14c1.1 0 2-.9 2-2V5c0-1.1-.9-2-2-2zM9 17H7v-7h2v7zm4 0h-2V7h2v10zm4 0h-2v-4h2v4z\"/>\n",
              "    </g>\n",
              "</svg>\n",
              "  </button>\n",
              "\n",
              "<style>\n",
              "  .colab-df-quickchart {\n",
              "      --bg-color: #E8F0FE;\n",
              "      --fill-color: #1967D2;\n",
              "      --hover-bg-color: #E2EBFA;\n",
              "      --hover-fill-color: #174EA6;\n",
              "      --disabled-fill-color: #AAA;\n",
              "      --disabled-bg-color: #DDD;\n",
              "  }\n",
              "\n",
              "  [theme=dark] .colab-df-quickchart {\n",
              "      --bg-color: #3B4455;\n",
              "      --fill-color: #D2E3FC;\n",
              "      --hover-bg-color: #434B5C;\n",
              "      --hover-fill-color: #FFFFFF;\n",
              "      --disabled-bg-color: #3B4455;\n",
              "      --disabled-fill-color: #666;\n",
              "  }\n",
              "\n",
              "  .colab-df-quickchart {\n",
              "    background-color: var(--bg-color);\n",
              "    border: none;\n",
              "    border-radius: 50%;\n",
              "    cursor: pointer;\n",
              "    display: none;\n",
              "    fill: var(--fill-color);\n",
              "    height: 32px;\n",
              "    padding: 0;\n",
              "    width: 32px;\n",
              "  }\n",
              "\n",
              "  .colab-df-quickchart:hover {\n",
              "    background-color: var(--hover-bg-color);\n",
              "    box-shadow: 0 1px 2px rgba(60, 64, 67, 0.3), 0 1px 3px 1px rgba(60, 64, 67, 0.15);\n",
              "    fill: var(--button-hover-fill-color);\n",
              "  }\n",
              "\n",
              "  .colab-df-quickchart-complete:disabled,\n",
              "  .colab-df-quickchart-complete:disabled:hover {\n",
              "    background-color: var(--disabled-bg-color);\n",
              "    fill: var(--disabled-fill-color);\n",
              "    box-shadow: none;\n",
              "  }\n",
              "\n",
              "  .colab-df-spinner {\n",
              "    border: 2px solid var(--fill-color);\n",
              "    border-color: transparent;\n",
              "    border-bottom-color: var(--fill-color);\n",
              "    animation:\n",
              "      spin 1s steps(1) infinite;\n",
              "  }\n",
              "\n",
              "  @keyframes spin {\n",
              "    0% {\n",
              "      border-color: transparent;\n",
              "      border-bottom-color: var(--fill-color);\n",
              "      border-left-color: var(--fill-color);\n",
              "    }\n",
              "    20% {\n",
              "      border-color: transparent;\n",
              "      border-left-color: var(--fill-color);\n",
              "      border-top-color: var(--fill-color);\n",
              "    }\n",
              "    30% {\n",
              "      border-color: transparent;\n",
              "      border-left-color: var(--fill-color);\n",
              "      border-top-color: var(--fill-color);\n",
              "      border-right-color: var(--fill-color);\n",
              "    }\n",
              "    40% {\n",
              "      border-color: transparent;\n",
              "      border-right-color: var(--fill-color);\n",
              "      border-top-color: var(--fill-color);\n",
              "    }\n",
              "    60% {\n",
              "      border-color: transparent;\n",
              "      border-right-color: var(--fill-color);\n",
              "    }\n",
              "    80% {\n",
              "      border-color: transparent;\n",
              "      border-right-color: var(--fill-color);\n",
              "      border-bottom-color: var(--fill-color);\n",
              "    }\n",
              "    90% {\n",
              "      border-color: transparent;\n",
              "      border-bottom-color: var(--fill-color);\n",
              "    }\n",
              "  }\n",
              "</style>\n",
              "\n",
              "  <script>\n",
              "    async function quickchart(key) {\n",
              "      const quickchartButtonEl =\n",
              "        document.querySelector('#' + key + ' button');\n",
              "      quickchartButtonEl.disabled = true;  // To prevent multiple clicks.\n",
              "      quickchartButtonEl.classList.add('colab-df-spinner');\n",
              "      try {\n",
              "        const charts = await google.colab.kernel.invokeFunction(\n",
              "            'suggestCharts', [key], {});\n",
              "      } catch (error) {\n",
              "        console.error('Error during call to suggestCharts:', error);\n",
              "      }\n",
              "      quickchartButtonEl.classList.remove('colab-df-spinner');\n",
              "      quickchartButtonEl.classList.add('colab-df-quickchart-complete');\n",
              "    }\n",
              "    (() => {\n",
              "      let quickchartButtonEl =\n",
              "        document.querySelector('#df-9434f2fc-edcc-4090-82af-8792c931351b button');\n",
              "      quickchartButtonEl.style.display =\n",
              "        google.colab.kernel.accessAllowed ? 'block' : 'none';\n",
              "    })();\n",
              "  </script>\n",
              "</div>\n",
              "\n",
              "    </div>\n",
              "  </div>\n"
            ],
            "application/vnd.google.colaboratory.intrinsic+json": {
              "type": "dataframe",
              "variable_name": "data"
            }
          },
          "metadata": {},
          "execution_count": 4
        }
      ]
    },
    {
      "cell_type": "code",
      "source": [
        "labels = data.Class.unique()\n",
        "sizes = data.Class.value_counts().values\n",
        "\n",
        "fig, ax = plt.subplots()\n",
        "ax.pie(sizes, labels=labels, autopct='%1.3f%%')\n",
        "ax.set_title('Conteo de valores de variable objetivo')\n",
        "plt.show()"
      ],
      "metadata": {
        "colab": {
          "base_uri": "https://localhost:8080/",
          "height": 428
        },
        "id": "E_X8EYEb1CNX",
        "outputId": "b1815904-f085-4a41-9405-93b9efb9caa7"
      },
      "execution_count": 5,
      "outputs": [
        {
          "output_type": "display_data",
          "data": {
            "text/plain": [
              "<Figure size 640x480 with 1 Axes>"
            ],
            "image/png": "[encoded data removed]"
          },
          "metadata": {}
        }
      ]
    },
    {
      "cell_type": "markdown",
      "source": [
        "El grafico permite ver que el dataset se encuentra desequilibrado en cuanto a las clases de la variable objetivo, las cuales no estan representadas por igual, por lo que este caso requiere prestar atencion a la hora del entrenamiento del modelo o de la evaluacion de su calidad. Una forma de abordar este caso es sesgar el modelo para que preste más atención a las muestras de la clase minoritaria."
      ],
      "metadata": {
        "id": "jrcjzbJZ1czz"
      }
    },
    {
      "cell_type": "code",
      "source": [
        "plt.hist(data.Amount, 6, histtype='bar', facecolor='g', range=(np.min(data.Amount.values),np.percentile(data.Amount.values, 90)))\n",
        "plt.suptitle(\"Histograma de valores en variable Amount\")\n",
        "plt.title(\"(hasta percentil 90)\")\n",
        "plt.show()\n",
        "\n",
        "print(\"Valor minimo: \", np.min(data.Amount.values))\n",
        "print(\"Valor maximo: \", np.max(data.Amount.values))\n",
        "print(\"Media: \", np.mean(data.Amount.values))\n",
        "print(\"Mediana: \", np.median(data.Amount.values))\n",
        "print(\"90% tienen un valor menor o igual a \", np.percentile(data.Amount.values, 90))"
      ],
      "metadata": {
        "colab": {
          "base_uri": "https://localhost:8080/",
          "height": 565
        },
        "id": "ePjQtnWc1psD",
        "outputId": "cd96ad22-05cb-4f3c-943c-7ee7879cfdfa"
      },
      "execution_count": 6,
      "outputs": [
        {
          "output_type": "display_data",
          "data": {
            "text/plain": [
              "<Figure size 640x480 with 1 Axes>"
            ],
            "image/png": "[encoded data removed]"
          },
          "metadata": {}
        },
        {
          "output_type": "stream",
          "name": "stdout",
          "text": [
            "Valor minimo:  0.0\n",
            "Valor maximo:  25691.16\n",
            "Media:  88.34961925093133\n",
            "Mediana:  22.0\n",
            "90% tienen un valor menor o igual a  203.0\n"
          ]
        }
      ]
    },
    {
      "cell_type": "markdown",
      "source": [
        "En el histograma se puede observar donde se acumulan la mayor cantidad de valores en cuanto a la varable 'Amount', y algunos otros datos estadisticos como la media, la mediana y el maximo."
      ],
      "metadata": {
        "id": "Wol9HMvALHqq"
      }
    },
    {
      "cell_type": "code",
      "source": [
        "plt.scatter(data.Class, data.Amount,  color='green')\n",
        "plt.xticks([0, 1], ['Legitima', 'Fraudulenta'])\n",
        "plt.xlabel(\"Class\")\n",
        "plt.ylabel(\"Amount\")\n",
        "plt.title(\"Distribucion valores respecto de su condicion de transaccion\")\n",
        "plt.show();"
      ],
      "metadata": {
        "colab": {
          "base_uri": "https://localhost:8080/",
          "height": 472
        },
        "id": "R5TyT59DxTR2",
        "outputId": "aae6d7d0-f069-4a59-9573-face75a2c0b2"
      },
      "execution_count": 7,
      "outputs": [
        {
          "output_type": "display_data",
          "data": {
            "text/plain": [
              "<Figure size 640x480 with 1 Axes>"
            ],
            "image/png": "[encoded data removed]"
          },
          "metadata": {}
        }
      ]
    },
    {
      "cell_type": "markdown",
      "source": [
        "Este grafico permite ver que las transacciones fraudulentas son sobre valores que no superan los 2500 en cuanto a la variable 'Amount', por lo que se puede suponer que cuando se trata de transacciones con valores por encima de dicho valor se puede afirmar que la transaccion es legitima"
      ],
      "metadata": {
        "id": "K-3Jxl0YLb6E"
      }
    },
    {
      "cell_type": "markdown",
      "source": [
        "## Preprocesamiento de datos"
      ],
      "metadata": {
        "id": "5Kg5kPsHMUKp"
      }
    },
    {
      "cell_type": "markdown",
      "source": [
        "Durante el preprocesamientod de datos, es util el escalado o la normalizacion para modelos lineales para acelerar la convergencia del entrenamiento.\n",
        "Se pueden estandarizar características eliminando la media y escalando a la varianza unitaria."
      ],
      "metadata": {
        "id": "kSaHB1tZMhli"
      }
    },
    {
      "cell_type": "code",
      "source": [
        "data.iloc[:, 1:30] = StandardScaler().fit_transform(data.iloc[:, 1:30])\n",
        "data_matrix = data.values\n",
        "\n",
        "# X: matriz de caracteristicas (se excluye la variable Time para este analisis)\n",
        "X = data_matrix[:, 1:30]\n",
        "\n",
        "# y: vector de categoria\n",
        "y = data_matrix[:, 30]\n",
        "\n",
        "# normalizacion de datos\n",
        "X = normalize(X, norm=\"l1\")\n",
        "\n",
        "print('X.shape=', X.shape, 'y.shape=', y.shape)"
      ],
      "metadata": {
        "colab": {
          "base_uri": "https://localhost:8080/"
        },
        "id": "Xw_SXwKXMT1H",
        "outputId": "c9924705-3ff0-4e1f-add6-db5a4f3dd92f"
      },
      "execution_count": 8,
      "outputs": [
        {
          "output_type": "stream",
          "name": "stdout",
          "text": [
            "X.shape= (284807, 29) y.shape= (284807,)\n"
          ]
        }
      ]
    },
    {
      "cell_type": "code",
      "source": [
        "np.unique(y)"
      ],
      "metadata": {
        "colab": {
          "base_uri": "https://localhost:8080/"
        },
        "id": "tILkEjDzK2S2",
        "outputId": "e4d6b096-2e11-418d-9b49-7e1c37db48a7"
      },
      "execution_count": 12,
      "outputs": [
        {
          "output_type": "execute_result",
          "data": {
            "text/plain": [
              "array([0., 1.])"
            ]
          },
          "metadata": {},
          "execution_count": 12
        }
      ]
    },
    {
      "cell_type": "markdown",
      "source": [
        "## Train y Test Split"
      ],
      "metadata": {
        "id": "62d54gY-NnPb"
      }
    },
    {
      "cell_type": "markdown",
      "source": [
        "El dataset se tiene que dividir en dos partes antes de construir el modelo de clasificacion: un subset a utilizar para entrenar el modelo y el otro para evaluar la calidad y el rendimiento del modelo entrenado"
      ],
      "metadata": {
        "id": "tGvQfkVKNqV8"
      }
    },
    {
      "cell_type": "code",
      "source": [
        "X_train, X_test, y_train, y_test = train_test_split(X, y, test_size=0.3, random_state=42, stratify=y)\n",
        "print('X_train.shape=', X_train.shape, 'Y_train.shape=', y_train.shape)\n",
        "print('X_test.shape=', X_test.shape, 'Y_test.shape=', y_test.shape)"
      ],
      "metadata": {
        "colab": {
          "base_uri": "https://localhost:8080/"
        },
        "id": "_g1BnSjaNp7B",
        "outputId": "ce354a7f-7264-40c2-ea5c-cb179c61b613"
      },
      "execution_count": 13,
      "outputs": [
        {
          "output_type": "stream",
          "name": "stdout",
          "text": [
            "X_train.shape= (199364, 29) Y_train.shape= (199364,)\n",
            "X_test.shape= (85443, 29) Y_test.shape= (85443,)\n"
          ]
        }
      ]
    },
    {
      "cell_type": "code",
      "source": [
        "# calcular los pesos de muestra que se utilizarán como entrada para la rutina del tren de modo que\n",
        "# tiene en cuenta el desequilibrio de clases presente en este conjunto de datos\n",
        "w_train = compute_sample_weight('balanced', y_train)"
      ],
      "metadata": {
        "id": "ncphIhWlqg22"
      },
      "execution_count": 14,
      "outputs": []
    },
    {
      "cell_type": "markdown",
      "source": [
        "## Construccion de Arbol de Decision"
      ],
      "metadata": {
        "id": "j-Mfzxjmo4Cs"
      }
    },
    {
      "cell_type": "markdown",
      "source": [
        "#### Prueba de hiperparametros para Arbol de Decision de SciKit-Learn\n"
      ],
      "metadata": {
        "id": "aa9VVl1lNtsf"
      }
    },
    {
      "cell_type": "code",
      "source": [
        "from sklearn.model_selection import GroupKFold\n",
        "from sklearn.model_selection import cross_validate"
      ],
      "metadata": {
        "id": "4Z1DqqZRN6vi"
      },
      "execution_count": 34,
      "outputs": []
    },
    {
      "cell_type": "code",
      "source": [
        "def iniciar_arbol_decision(profundidad, min_samples_leaf, min_samples_split):\n",
        "  SEED = 301\n",
        "  np.random.seed(SEED)\n",
        "\n",
        "  cv = GroupKFold(n_splits = 10)\n",
        "  modelo = DecisionTreeClassifier(max_depth = profundidad, min_samples_leaf = min_samples_leaf, min_samples_split = min_samples_split)\n",
        "  results = cross_validate(modelo, X, y, return_train_score=True)\n",
        "  test_score = results['test_score'].mean()*100\n",
        "  train_score = results['train_score'].mean()*100\n",
        "  fit_time = results['fit_time'].mean()\n",
        "  score_time = results['score_time'].mean()\n",
        "  print('Profundidad = %d, min_samples_leaf = %d, min_samples_split = %d, testing = %.2f, training = %.2f' % (profundidad,min_samples_leaf,min_samples_split,test_score,train_score))\n",
        "  tabla = [profundidad, min_samples_leaf, min_samples_split, test_score, train_score, score_time, fit_time]\n",
        "  return tabla"
      ],
      "metadata": {
        "id": "TS1xgRR1NxNI"
      },
      "execution_count": 50,
      "outputs": []
    },
    {
      "cell_type": "code",
      "source": [
        "def buscar():\n",
        "  resultados = []\n",
        "  for profundidad in range(1,5):\n",
        "    for min_samples_leaf in [32,64,128,256]:\n",
        "      for min_samples_split in [32,64,128,256]:\n",
        "        tabla = iniciar_arbol_decision(profundidad,min_samples_leaf,min_samples_split)\n",
        "        resultados.append(tabla)\n",
        "  resultados = pd.DataFrame(resultados, columns=['max_depth','min_samples_leaf','min_samples_split','testing','training','score_time','fit_time'])\n",
        "  return resultados"
      ],
      "metadata": {
        "id": "GcblDxMKNzet"
      },
      "execution_count": 54,
      "outputs": []
    },
    {
      "cell_type": "code",
      "source": [
        "resultados = buscar()\n",
        "resultados.head(10)"
      ],
      "metadata": {
        "colab": {
          "base_uri": "https://localhost:8080/",
          "height": 1000
        },
        "id": "y2cVIpiMN1cF",
        "outputId": "179a7c6b-eb24-4489-b072-d47581f30293"
      },
      "execution_count": 55,
      "outputs": [
        {
          "output_type": "stream",
          "name": "stdout",
          "text": [
            "Profundidad = 1, min_samples_leaf = 32, min_samples_split = 32, testing = 99.86, training = 99.86\n",
            "Profundidad = 1, min_samples_leaf = 32, min_samples_split = 64, testing = 99.86, training = 99.86\n",
            "Profundidad = 1, min_samples_leaf = 32, min_samples_split = 128, testing = 99.86, training = 99.86\n",
            "Profundidad = 1, min_samples_leaf = 32, min_samples_split = 256, testing = 99.86, training = 99.86\n",
            "Profundidad = 1, min_samples_leaf = 64, min_samples_split = 32, testing = 99.86, training = 99.86\n",
            "Profundidad = 1, min_samples_leaf = 64, min_samples_split = 64, testing = 99.86, training = 99.86\n",
            "Profundidad = 1, min_samples_leaf = 64, min_samples_split = 128, testing = 99.86, training = 99.86\n",
            "Profundidad = 1, min_samples_leaf = 64, min_samples_split = 256, testing = 99.86, training = 99.86\n",
            "Profundidad = 1, min_samples_leaf = 128, min_samples_split = 32, testing = 99.86, training = 99.86\n",
            "Profundidad = 1, min_samples_leaf = 128, min_samples_split = 64, testing = 99.86, training = 99.86\n",
            "Profundidad = 1, min_samples_leaf = 128, min_samples_split = 128, testing = 99.86, training = 99.86\n",
            "Profundidad = 1, min_samples_leaf = 128, min_samples_split = 256, testing = 99.86, training = 99.86\n",
            "Profundidad = 1, min_samples_leaf = 256, min_samples_split = 32, testing = 99.82, training = 99.84\n",
            "Profundidad = 1, min_samples_leaf = 256, min_samples_split = 64, testing = 99.82, training = 99.84\n",
            "Profundidad = 1, min_samples_leaf = 256, min_samples_split = 128, testing = 99.82, training = 99.84\n",
            "Profundidad = 1, min_samples_leaf = 256, min_samples_split = 256, testing = 99.82, training = 99.84\n",
            "Profundidad = 2, min_samples_leaf = 32, min_samples_split = 32, testing = 99.86, training = 99.87\n",
            "Profundidad = 2, min_samples_leaf = 32, min_samples_split = 64, testing = 99.86, training = 99.87\n",
            "Profundidad = 2, min_samples_leaf = 32, min_samples_split = 128, testing = 99.86, training = 99.87\n",
            "Profundidad = 2, min_samples_leaf = 32, min_samples_split = 256, testing = 99.87, training = 99.87\n",
            "Profundidad = 2, min_samples_leaf = 64, min_samples_split = 32, testing = 99.84, training = 99.87\n",
            "Profundidad = 2, min_samples_leaf = 64, min_samples_split = 64, testing = 99.84, training = 99.87\n",
            "Profundidad = 2, min_samples_leaf = 64, min_samples_split = 128, testing = 99.84, training = 99.87\n",
            "Profundidad = 2, min_samples_leaf = 64, min_samples_split = 256, testing = 99.86, training = 99.87\n",
            "Profundidad = 2, min_samples_leaf = 128, min_samples_split = 32, testing = 99.86, training = 99.86\n",
            "Profundidad = 2, min_samples_leaf = 128, min_samples_split = 64, testing = 99.86, training = 99.86\n",
            "Profundidad = 2, min_samples_leaf = 128, min_samples_split = 128, testing = 99.86, training = 99.86\n",
            "Profundidad = 2, min_samples_leaf = 128, min_samples_split = 256, testing = 99.86, training = 99.86\n",
            "Profundidad = 2, min_samples_leaf = 256, min_samples_split = 32, testing = 99.82, training = 99.84\n",
            "Profundidad = 2, min_samples_leaf = 256, min_samples_split = 64, testing = 99.82, training = 99.84\n",
            "Profundidad = 2, min_samples_leaf = 256, min_samples_split = 128, testing = 99.82, training = 99.84\n",
            "Profundidad = 2, min_samples_leaf = 256, min_samples_split = 256, testing = 99.82, training = 99.84\n",
            "Profundidad = 3, min_samples_leaf = 32, min_samples_split = 32, testing = 99.86, training = 99.88\n",
            "Profundidad = 3, min_samples_leaf = 32, min_samples_split = 64, testing = 99.86, training = 99.88\n",
            "Profundidad = 3, min_samples_leaf = 32, min_samples_split = 128, testing = 99.86, training = 99.87\n",
            "Profundidad = 3, min_samples_leaf = 32, min_samples_split = 256, testing = 99.87, training = 99.87\n",
            "Profundidad = 3, min_samples_leaf = 64, min_samples_split = 32, testing = 99.84, training = 99.87\n",
            "Profundidad = 3, min_samples_leaf = 64, min_samples_split = 64, testing = 99.84, training = 99.87\n",
            "Profundidad = 3, min_samples_leaf = 64, min_samples_split = 128, testing = 99.84, training = 99.87\n",
            "Profundidad = 3, min_samples_leaf = 64, min_samples_split = 256, testing = 99.86, training = 99.87\n",
            "Profundidad = 3, min_samples_leaf = 128, min_samples_split = 32, testing = 99.86, training = 99.86\n",
            "Profundidad = 3, min_samples_leaf = 128, min_samples_split = 64, testing = 99.86, training = 99.86\n",
            "Profundidad = 3, min_samples_leaf = 128, min_samples_split = 128, testing = 99.86, training = 99.86\n",
            "Profundidad = 3, min_samples_leaf = 128, min_samples_split = 256, testing = 99.86, training = 99.86\n",
            "Profundidad = 3, min_samples_leaf = 256, min_samples_split = 32, testing = 99.82, training = 99.84\n",
            "Profundidad = 3, min_samples_leaf = 256, min_samples_split = 64, testing = 99.82, training = 99.84\n",
            "Profundidad = 3, min_samples_leaf = 256, min_samples_split = 128, testing = 99.82, training = 99.84\n",
            "Profundidad = 3, min_samples_leaf = 256, min_samples_split = 256, testing = 99.82, training = 99.84\n"
          ]
        },
        {
          "output_type": "execute_result",
          "data": {
            "text/plain": [
              "   max_depth  min_samples_leaf  min_samples_split    testing   training  \\\n",
              "0          1                32                 32  99.857096  99.859642   \n",
              "1          1                32                 64  99.857096  99.859642   \n",
              "2          1                32                128  99.857096  99.859642   \n",
              "3          1                32                256  99.857096  99.859642   \n",
              "4          1                64                 32  99.857096  99.859642   \n",
              "5          1                64                 64  99.857096  99.859642   \n",
              "6          1                64                128  99.857096  99.859642   \n",
              "7          1                64                256  99.857096  99.859642   \n",
              "8          1               128                 32  99.857096  99.859642   \n",
              "9          1               128                 64  99.857096  99.859642   \n",
              "\n",
              "   score_time  fit_time  \n",
              "0    0.010628  1.463569  \n",
              "1    0.011867  1.565728  \n",
              "2    0.011973  1.527173  \n",
              "3    0.011268  1.471441  \n",
              "4    0.011840  1.569260  \n",
              "5    0.011792  1.470775  \n",
              "6    0.011135  1.530480  \n",
              "7    0.011617  1.562962  \n",
              "8    0.011062  1.449469  \n",
              "9    0.011670  1.562881  "
            ],
            "text/html": [
              "\n",
              "  <div id=\"df-d53fa0e2-cc4b-4c03-a12f-122a9cf7609b\" class=\"colab-df-container\">\n",
              "    <div>\n",
              "<style scoped>\n",
              "    .dataframe tbody tr th:only-of-type {\n",
              "        vertical-align: middle;\n",
              "    }\n",
              "\n",
              "    .dataframe tbody tr th {\n",
              "        vertical-align: top;\n",
              "    }\n",
              "\n",
              "    .dataframe thead th {\n",
              "        text-align: right;\n",
              "    }\n",
              "</style>\n",
              "<table border=\"1\" class=\"dataframe\">\n",
              "  <thead>\n",
              "    <tr style=\"text-align: right;\">\n",
              "      <th></th>\n",
              "      <th>max_depth</th>\n",
              "      <th>min_samples_leaf</th>\n",
              "      <th>min_samples_split</th>\n",
              "      <th>testing</th>\n",
              "      <th>training</th>\n",
              "      <th>score_time</th>\n",
              "      <th>fit_time</th>\n",
              "    </tr>\n",
              "  </thead>\n",
              "  <tbody>\n",
              "    <tr>\n",
              "      <th>0</th>\n",
              "      <td>1</td>\n",
              "      <td>32</td>\n",
              "      <td>32</td>\n",
              "      <td>99.857096</td>\n",
              "      <td>99.859642</td>\n",
              "      <td>0.010628</td>\n",
              "      <td>1.463569</td>\n",
              "    </tr>\n",
              "    <tr>\n",
              "      <th>1</th>\n",
              "      <td>1</td>\n",
              "      <td>32</td>\n",
              "      <td>64</td>\n",
              "      <td>99.857096</td>\n",
              "      <td>99.859642</td>\n",
              "      <td>0.011867</td>\n",
              "      <td>1.565728</td>\n",
              "    </tr>\n",
              "    <tr>\n",
              "      <th>2</th>\n",
              "      <td>1</td>\n",
              "      <td>32</td>\n",
              "      <td>128</td>\n",
              "      <td>99.857096</td>\n",
              "      <td>99.859642</td>\n",
              "      <td>0.011973</td>\n",
              "      <td>1.527173</td>\n",
              "    </tr>\n",
              "    <tr>\n",
              "      <th>3</th>\n",
              "      <td>1</td>\n",
              "      <td>32</td>\n",
              "      <td>256</td>\n",
              "      <td>99.857096</td>\n",
              "      <td>99.859642</td>\n",
              "      <td>0.011268</td>\n",
              "      <td>1.471441</td>\n",
              "    </tr>\n",
              "    <tr>\n",
              "      <th>4</th>\n",
              "      <td>1</td>\n",
              "      <td>64</td>\n",
              "      <td>32</td>\n",
              "      <td>99.857096</td>\n",
              "      <td>99.859642</td>\n",
              "      <td>0.011840</td>\n",
              "      <td>1.569260</td>\n",
              "    </tr>\n",
              "    <tr>\n",
              "      <th>5</th>\n",
              "      <td>1</td>\n",
              "      <td>64</td>\n",
              "      <td>64</td>\n",
              "      <td>99.857096</td>\n",
              "      <td>99.859642</td>\n",
              "      <td>0.011792</td>\n",
              "      <td>1.470775</td>\n",
              "    </tr>\n",
              "    <tr>\n",
              "      <th>6</th>\n",
              "      <td>1</td>\n",
              "      <td>64</td>\n",
              "      <td>128</td>\n",
              "      <td>99.857096</td>\n",
              "      <td>99.859642</td>\n",
              "      <td>0.011135</td>\n",
              "      <td>1.530480</td>\n",
              "    </tr>\n",
              "    <tr>\n",
              "      <th>7</th>\n",
              "      <td>1</td>\n",
              "      <td>64</td>\n",
              "      <td>256</td>\n",
              "      <td>99.857096</td>\n",
              "      <td>99.859642</td>\n",
              "      <td>0.011617</td>\n",
              "      <td>1.562962</td>\n",
              "    </tr>\n",
              "    <tr>\n",
              "      <th>8</th>\n",
              "      <td>1</td>\n",
              "      <td>128</td>\n",
              "      <td>32</td>\n",
              "      <td>99.857096</td>\n",
              "      <td>99.859642</td>\n",
              "      <td>0.011062</td>\n",
              "      <td>1.449469</td>\n",
              "    </tr>\n",
              "    <tr>\n",
              "      <th>9</th>\n",
              "      <td>1</td>\n",
              "      <td>128</td>\n",
              "      <td>64</td>\n",
              "      <td>99.857096</td>\n",
              "      <td>99.859642</td>\n",
              "      <td>0.011670</td>\n",
              "      <td>1.562881</td>\n",
              "    </tr>\n",
              "  </tbody>\n",
              "</table>\n",
              "</div>\n",
              "    <div class=\"colab-df-buttons\">\n",
              "\n",
              "  <div class=\"colab-df-container\">\n",
              "    <button class=\"colab-df-convert\" onclick=\"convertToInteractive('df-d53fa0e2-cc4b-4c03-a12f-122a9cf7609b')\"\n",
              "            title=\"Convert this dataframe to an interactive table.\"\n",
              "            style=\"display:none;\">\n",
              "\n",
              "  <svg xmlns=\"http://www.w3.org/2000/svg\" height=\"24px\" viewBox=\"0 -960 960 960\">\n",
              "    <path d=\"M120-120v-720h720v720H120Zm60-500h600v-160H180v160Zm220 220h160v-160H400v160Zm0 220h160v-160H400v160ZM180-400h160v-160H180v160Zm440 0h160v-160H620v160ZM180-180h160v-160H180v160Zm440 0h160v-160H620v160Z\"/>\n",
              "  </svg>\n",
              "    </button>\n",
              "\n",
              "  <style>\n",
              "    .colab-df-container {\n",
              "      display:flex;\n",
              "      gap: 12px;\n",
              "    }\n",
              "\n",
              "    .colab-df-convert {\n",
              "      background-color: #E8F0FE;\n",
              "      border: none;\n",
              "      border-radius: 50%;\n",
              "      cursor: pointer;\n",
              "      display: none;\n",
              "      fill: #1967D2;\n",
              "      height: 32px;\n",
              "      padding: 0 0 0 0;\n",
              "      width: 32px;\n",
              "    }\n",
              "\n",
              "    .colab-df-convert:hover {\n",
              "      background-color: #E2EBFA;\n",
              "      box-shadow: 0px 1px 2px rgba(60, 64, 67, 0.3), 0px 1px 3px 1px rgba(60, 64, 67, 0.15);\n",
              "      fill: #174EA6;\n",
              "    }\n",
              "\n",
              "    .colab-df-buttons div {\n",
              "      margin-bottom: 4px;\n",
              "    }\n",
              "\n",
              "    [theme=dark] .colab-df-convert {\n",
              "      background-color: #3B4455;\n",
              "      fill: #D2E3FC;\n",
              "    }\n",
              "\n",
              "    [theme=dark] .colab-df-convert:hover {\n",
              "      background-color: #434B5C;\n",
              "      box-shadow: 0px 1px 3px 1px rgba(0, 0, 0, 0.15);\n",
              "      filter: drop-shadow(0px 1px 2px rgba(0, 0, 0, 0.3));\n",
              "      fill: #FFFFFF;\n",
              "    }\n",
              "  </style>\n",
              "\n",
              "    <script>\n",
              "      const buttonEl =\n",
              "        document.querySelector('#df-d53fa0e2-cc4b-4c03-a12f-122a9cf7609b button.colab-df-convert');\n",
              "      buttonEl.style.display =\n",
              "        google.colab.kernel.accessAllowed ? 'block' : 'none';\n",
              "\n",
              "      async function convertToInteractive(key) {\n",
              "        const element = document.querySelector('#df-d53fa0e2-cc4b-4c03-a12f-122a9cf7609b');\n",
              "        const dataTable =\n",
              "          await google.colab.kernel.invokeFunction('convertToInteractive',\n",
              "                                                    [key], {});\n",
              "        if (!dataTable) return;\n",
              "\n",
              "        const docLinkHtml = 'Like what you see? Visit the ' +\n",
              "          '<a target=\"_blank\" href=https://colab.research.google.com/notebooks/data_table.ipynb>data table notebook</a>'\n",
              "          + ' to learn more about interactive tables.';\n",
              "        element.innerHTML = '';\n",
              "        dataTable['output_type'] = 'display_data';\n",
              "        await google.colab.output.renderOutput(dataTable, element);\n",
              "        const docLink = document.createElement('div');\n",
              "        docLink.innerHTML = docLinkHtml;\n",
              "        element.appendChild(docLink);\n",
              "      }\n",
              "    </script>\n",
              "  </div>\n",
              "\n",
              "\n",
              "<div id=\"df-89db13d1-4865-42b5-bdcc-3e2a0765ec62\">\n",
              "  <button class=\"colab-df-quickchart\" onclick=\"quickchart('df-89db13d1-4865-42b5-bdcc-3e2a0765ec62')\"\n",
              "            title=\"Suggest charts\"\n",
              "            style=\"display:none;\">\n",
              "\n",
              "<svg xmlns=\"http://www.w3.org/2000/svg\" height=\"24px\"viewBox=\"0 0 24 24\"\n",
              "     width=\"24px\">\n",
              "    <g>\n",
              "        <path d=\"M19 3H5c-1.1 0-2 .9-2 2v14c0 1.1.9 2 2 2h14c1.1 0 2-.9 2-2V5c0-1.1-.9-2-2-2zM9 17H7v-7h2v7zm4 0h-2V7h2v10zm4 0h-2v-4h2v4z\"/>\n",
              "    </g>\n",
              "</svg>\n",
              "  </button>\n",
              "\n",
              "<style>\n",
              "  .colab-df-quickchart {\n",
              "      --bg-color: #E8F0FE;\n",
              "      --fill-color: #1967D2;\n",
              "      --hover-bg-color: #E2EBFA;\n",
              "      --hover-fill-color: #174EA6;\n",
              "      --disabled-fill-color: #AAA;\n",
              "      --disabled-bg-color: #DDD;\n",
              "  }\n",
              "\n",
              "  [theme=dark] .colab-df-quickchart {\n",
              "      --bg-color: #3B4455;\n",
              "      --fill-color: #D2E3FC;\n",
              "      --hover-bg-color: #434B5C;\n",
              "      --hover-fill-color: #FFFFFF;\n",
              "      --disabled-bg-color: #3B4455;\n",
              "      --disabled-fill-color: #666;\n",
              "  }\n",
              "\n",
              "  .colab-df-quickchart {\n",
              "    background-color: var(--bg-color);\n",
              "    border: none;\n",
              "    border-radius: 50%;\n",
              "    cursor: pointer;\n",
              "    display: none;\n",
              "    fill: var(--fill-color);\n",
              "    height: 32px;\n",
              "    padding: 0;\n",
              "    width: 32px;\n",
              "  }\n",
              "\n",
              "  .colab-df-quickchart:hover {\n",
              "    background-color: var(--hover-bg-color);\n",
              "    box-shadow: 0 1px 2px rgba(60, 64, 67, 0.3), 0 1px 3px 1px rgba(60, 64, 67, 0.15);\n",
              "    fill: var(--button-hover-fill-color);\n",
              "  }\n",
              "\n",
              "  .colab-df-quickchart-complete:disabled,\n",
              "  .colab-df-quickchart-complete:disabled:hover {\n",
              "    background-color: var(--disabled-bg-color);\n",
              "    fill: var(--disabled-fill-color);\n",
              "    box-shadow: none;\n",
              "  }\n",
              "\n",
              "  .colab-df-spinner {\n",
              "    border: 2px solid var(--fill-color);\n",
              "    border-color: transparent;\n",
              "    border-bottom-color: var(--fill-color);\n",
              "    animation:\n",
              "      spin 1s steps(1) infinite;\n",
              "  }\n",
              "\n",
              "  @keyframes spin {\n",
              "    0% {\n",
              "      border-color: transparent;\n",
              "      border-bottom-color: var(--fill-color);\n",
              "      border-left-color: var(--fill-color);\n",
              "    }\n",
              "    20% {\n",
              "      border-color: transparent;\n",
              "      border-left-color: var(--fill-color);\n",
              "      border-top-color: var(--fill-color);\n",
              "    }\n",
              "    30% {\n",
              "      border-color: transparent;\n",
              "      border-left-color: var(--fill-color);\n",
              "      border-top-color: var(--fill-color);\n",
              "      border-right-color: var(--fill-color);\n",
              "    }\n",
              "    40% {\n",
              "      border-color: transparent;\n",
              "      border-right-color: var(--fill-color);\n",
              "      border-top-color: var(--fill-color);\n",
              "    }\n",
              "    60% {\n",
              "      border-color: transparent;\n",
              "      border-right-color: var(--fill-color);\n",
              "    }\n",
              "    80% {\n",
              "      border-color: transparent;\n",
              "      border-right-color: var(--fill-color);\n",
              "      border-bottom-color: var(--fill-color);\n",
              "    }\n",
              "    90% {\n",
              "      border-color: transparent;\n",
              "      border-bottom-color: var(--fill-color);\n",
              "    }\n",
              "  }\n",
              "</style>\n",
              "\n",
              "  <script>\n",
              "    async function quickchart(key) {\n",
              "      const quickchartButtonEl =\n",
              "        document.querySelector('#' + key + ' button');\n",
              "      quickchartButtonEl.disabled = true;  // To prevent multiple clicks.\n",
              "      quickchartButtonEl.classList.add('colab-df-spinner');\n",
              "      try {\n",
              "        const charts = await google.colab.kernel.invokeFunction(\n",
              "            'suggestCharts', [key], {});\n",
              "      } catch (error) {\n",
              "        console.error('Error during call to suggestCharts:', error);\n",
              "      }\n",
              "      quickchartButtonEl.classList.remove('colab-df-spinner');\n",
              "      quickchartButtonEl.classList.add('colab-df-quickchart-complete');\n",
              "    }\n",
              "    (() => {\n",
              "      let quickchartButtonEl =\n",
              "        document.querySelector('#df-89db13d1-4865-42b5-bdcc-3e2a0765ec62 button');\n",
              "      quickchartButtonEl.style.display =\n",
              "        google.colab.kernel.accessAllowed ? 'block' : 'none';\n",
              "    })();\n",
              "  </script>\n",
              "</div>\n",
              "\n",
              "    </div>\n",
              "  </div>\n"
            ],
            "application/vnd.google.colaboratory.intrinsic+json": {
              "type": "dataframe",
              "variable_name": "resultados",
              "summary": "{\n  \"name\": \"resultados\",\n  \"rows\": 48,\n  \"fields\": [\n    {\n      \"column\": \"max_depth\",\n      \"properties\": {\n        \"dtype\": \"number\",\n        \"std\": 0,\n        \"min\": 1,\n        \"max\": 3,\n        \"samples\": [\n          1,\n          2,\n          3\n        ],\n        \"num_unique_values\": 3,\n        \"semantic_type\": \"\",\n        \"description\": \"\"\n      }\n    },\n    {\n      \"column\": \"min_samples_leaf\",\n      \"properties\": {\n        \"dtype\": \"number\",\n        \"std\": 86,\n        \"min\": 32,\n        \"max\": 256,\n        \"samples\": [\n          64,\n          256,\n          32\n        ],\n        \"num_unique_values\": 4,\n        \"semantic_type\": \"\",\n        \"description\": \"\"\n      }\n    },\n    {\n      \"column\": \"min_samples_split\",\n      \"properties\": {\n        \"dtype\": \"number\",\n        \"std\": 86,\n        \"min\": 32,\n        \"max\": 256,\n        \"samples\": [\n          64,\n          256,\n          32\n        ],\n        \"num_unique_values\": 4,\n        \"semantic_type\": \"\",\n        \"description\": \"\"\n      }\n    },\n    {\n      \"column\": \"testing\",\n      \"properties\": {\n        \"dtype\": \"number\",\n        \"std\": 0.01658601255343061,\n        \"min\": 99.82058039805075,\n        \"max\": 99.86727856026289,\n        \"samples\": [\n          99.85709615475737,\n          99.82058039805075,\n          99.8563939445512\n        ],\n        \"num_unique_values\": 7,\n        \"semantic_type\": \"\",\n        \"description\": \"\"\n      }\n    },\n    {\n      \"column\": \"training\",\n      \"properties\": {\n        \"dtype\": \"number\",\n        \"std\": 0.01267835979197181,\n        \"min\": 99.83848711429457,\n        \"max\": 99.8764953100115,\n        \"samples\": [\n          99.85964178811957,\n          99.83848711429457,\n          99.86675187141194\n        ],\n        \"num_unique_values\": 7,\n        \"semantic_type\": \"\",\n        \"description\": \"\"\n      }\n    },\n    {\n      \"column\": \"score_time\",\n      \"properties\": {\n        \"dtype\": \"number\",\n        \"std\": 0.0006040825011344068,\n        \"min\": 0.01062788963317871,\n        \"max\": 0.013193416595458984,\n        \"samples\": [\n          0.011725091934204101,\n          0.010687875747680663,\n          0.013193416595458984\n        ],\n        \"num_unique_values\": 48,\n        \"semantic_type\": \"\",\n        \"description\": \"\"\n      }\n    },\n    {\n      \"column\": \"fit_time\",\n      \"properties\": {\n        \"dtype\": \"number\",\n        \"std\": 1.1874185057831774,\n        \"min\": 1.4342733860015868,\n        \"max\": 4.4511127948760985,\n        \"samples\": [\n          2.9505932331085205,\n          4.424012756347656,\n          3.0105446338653565\n        ],\n        \"num_unique_values\": 48,\n        \"semantic_type\": \"\",\n        \"description\": \"\"\n      }\n    }\n  ]\n}"
            }
          },
          "metadata": {},
          "execution_count": 55
        }
      ]
    },
    {
      "cell_type": "code",
      "source": [
        "resultados.sort_values('testing', ascending = False).head()"
      ],
      "metadata": {
        "colab": {
          "base_uri": "https://localhost:8080/",
          "height": 206
        },
        "id": "__rJGjk3hsFG",
        "outputId": "c0c28dcf-b541-44ca-e1c1-d981437a0b25"
      },
      "execution_count": 56,
      "outputs": [
        {
          "output_type": "execute_result",
          "data": {
            "text/plain": [
              "    max_depth  min_samples_leaf  min_samples_split    testing   training  \\\n",
              "19          2                32                256  99.867279  99.870702   \n",
              "35          3                32                256  99.867279  99.870702   \n",
              "16          2                32                 32  99.862714  99.874828   \n",
              "34          3                32                128  99.862714  99.874828   \n",
              "18          2                32                128  99.862714  99.874828   \n",
              "\n",
              "    score_time  fit_time  \n",
              "19    0.011059  2.930531  \n",
              "35    0.012072  4.451113  \n",
              "16    0.012301  2.922613  \n",
              "34    0.011912  4.439277  \n",
              "18    0.010787  3.057672  "
            ],
            "text/html": [
              "\n",
              "  <div id=\"df-e09069a5-0c09-46c4-b2e4-ce51336c8990\" class=\"colab-df-container\">\n",
              "    <div>\n",
              "<style scoped>\n",
              "    .dataframe tbody tr th:only-of-type {\n",
              "        vertical-align: middle;\n",
              "    }\n",
              "\n",
              "    .dataframe tbody tr th {\n",
              "        vertical-align: top;\n",
              "    }\n",
              "\n",
              "    .dataframe thead th {\n",
              "        text-align: right;\n",
              "    }\n",
              "</style>\n",
              "<table border=\"1\" class=\"dataframe\">\n",
              "  <thead>\n",
              "    <tr style=\"text-align: right;\">\n",
              "      <th></th>\n",
              "      <th>max_depth</th>\n",
              "      <th>min_samples_leaf</th>\n",
              "      <th>min_samples_split</th>\n",
              "      <th>testing</th>\n",
              "      <th>training</th>\n",
              "      <th>score_time</th>\n",
              "      <th>fit_time</th>\n",
              "    </tr>\n",
              "  </thead>\n",
              "  <tbody>\n",
              "    <tr>\n",
              "      <th>19</th>\n",
              "      <td>2</td>\n",
              "      <td>32</td>\n",
              "      <td>256</td>\n",
              "      <td>99.867279</td>\n",
              "      <td>99.870702</td>\n",
              "      <td>0.011059</td>\n",
              "      <td>2.930531</td>\n",
              "    </tr>\n",
              "    <tr>\n",
              "      <th>35</th>\n",
              "      <td>3</td>\n",
              "      <td>32</td>\n",
              "      <td>256</td>\n",
              "      <td>99.867279</td>\n",
              "      <td>99.870702</td>\n",
              "      <td>0.012072</td>\n",
              "      <td>4.451113</td>\n",
              "    </tr>\n",
              "    <tr>\n",
              "      <th>16</th>\n",
              "      <td>2</td>\n",
              "      <td>32</td>\n",
              "      <td>32</td>\n",
              "      <td>99.862714</td>\n",
              "      <td>99.874828</td>\n",
              "      <td>0.012301</td>\n",
              "      <td>2.922613</td>\n",
              "    </tr>\n",
              "    <tr>\n",
              "      <th>34</th>\n",
              "      <td>3</td>\n",
              "      <td>32</td>\n",
              "      <td>128</td>\n",
              "      <td>99.862714</td>\n",
              "      <td>99.874828</td>\n",
              "      <td>0.011912</td>\n",
              "      <td>4.439277</td>\n",
              "    </tr>\n",
              "    <tr>\n",
              "      <th>18</th>\n",
              "      <td>2</td>\n",
              "      <td>32</td>\n",
              "      <td>128</td>\n",
              "      <td>99.862714</td>\n",
              "      <td>99.874828</td>\n",
              "      <td>0.010787</td>\n",
              "      <td>3.057672</td>\n",
              "    </tr>\n",
              "  </tbody>\n",
              "</table>\n",
              "</div>\n",
              "    <div class=\"colab-df-buttons\">\n",
              "\n",
              "  <div class=\"colab-df-container\">\n",
              "    <button class=\"colab-df-convert\" onclick=\"convertToInteractive('df-e09069a5-0c09-46c4-b2e4-ce51336c8990')\"\n",
              "            title=\"Convert this dataframe to an interactive table.\"\n",
              "            style=\"display:none;\">\n",
              "\n",
              "  <svg xmlns=\"http://www.w3.org/2000/svg\" height=\"24px\" viewBox=\"0 -960 960 960\">\n",
              "    <path d=\"M120-120v-720h720v720H120Zm60-500h600v-160H180v160Zm220 220h160v-160H400v160Zm0 220h160v-160H400v160ZM180-400h160v-160H180v160Zm440 0h160v-160H620v160ZM180-180h160v-160H180v160Zm440 0h160v-160H620v160Z\"/>\n",
              "  </svg>\n",
              "    </button>\n",
              "\n",
              "  <style>\n",
              "    .colab-df-container {\n",
              "      display:flex;\n",
              "      gap: 12px;\n",
              "    }\n",
              "\n",
              "    .colab-df-convert {\n",
              "      background-color: #E8F0FE;\n",
              "      border: none;\n",
              "      border-radius: 50%;\n",
              "      cursor: pointer;\n",
              "      display: none;\n",
              "      fill: #1967D2;\n",
              "      height: 32px;\n",
              "      padding: 0 0 0 0;\n",
              "      width: 32px;\n",
              "    }\n",
              "\n",
              "    .colab-df-convert:hover {\n",
              "      background-color: #E2EBFA;\n",
              "      box-shadow: 0px 1px 2px rgba(60, 64, 67, 0.3), 0px 1px 3px 1px rgba(60, 64, 67, 0.15);\n",
              "      fill: #174EA6;\n",
              "    }\n",
              "\n",
              "    .colab-df-buttons div {\n",
              "      margin-bottom: 4px;\n",
              "    }\n",
              "\n",
              "    [theme=dark] .colab-df-convert {\n",
              "      background-color: #3B4455;\n",
              "      fill: #D2E3FC;\n",
              "    }\n",
              "\n",
              "    [theme=dark] .colab-df-convert:hover {\n",
              "      background-color: #434B5C;\n",
              "      box-shadow: 0px 1px 3px 1px rgba(0, 0, 0, 0.15);\n",
              "      filter: drop-shadow(0px 1px 2px rgba(0, 0, 0, 0.3));\n",
              "      fill: #FFFFFF;\n",
              "    }\n",
              "  </style>\n",
              "\n",
              "    <script>\n",
              "      const buttonEl =\n",
              "        document.querySelector('#df-e09069a5-0c09-46c4-b2e4-ce51336c8990 button.colab-df-convert');\n",
              "      buttonEl.style.display =\n",
              "        google.colab.kernel.accessAllowed ? 'block' : 'none';\n",
              "\n",
              "      async function convertToInteractive(key) {\n",
              "        const element = document.querySelector('#df-e09069a5-0c09-46c4-b2e4-ce51336c8990');\n",
              "        const dataTable =\n",
              "          await google.colab.kernel.invokeFunction('convertToInteractive',\n",
              "                                                    [key], {});\n",
              "        if (!dataTable) return;\n",
              "\n",
              "        const docLinkHtml = 'Like what you see? Visit the ' +\n",
              "          '<a target=\"_blank\" href=https://colab.research.google.com/notebooks/data_table.ipynb>data table notebook</a>'\n",
              "          + ' to learn more about interactive tables.';\n",
              "        element.innerHTML = '';\n",
              "        dataTable['output_type'] = 'display_data';\n",
              "        await google.colab.output.renderOutput(dataTable, element);\n",
              "        const docLink = document.createElement('div');\n",
              "        docLink.innerHTML = docLinkHtml;\n",
              "        element.appendChild(docLink);\n",
              "      }\n",
              "    </script>\n",
              "  </div>\n",
              "\n",
              "\n",
              "<div id=\"df-243eb3c6-b1f8-49e4-8618-831e4a2a2e73\">\n",
              "  <button class=\"colab-df-quickchart\" onclick=\"quickchart('df-243eb3c6-b1f8-49e4-8618-831e4a2a2e73')\"\n",
              "            title=\"Suggest charts\"\n",
              "            style=\"display:none;\">\n",
              "\n",
              "<svg xmlns=\"http://www.w3.org/2000/svg\" height=\"24px\"viewBox=\"0 0 24 24\"\n",
              "     width=\"24px\">\n",
              "    <g>\n",
              "        <path d=\"M19 3H5c-1.1 0-2 .9-2 2v14c0 1.1.9 2 2 2h14c1.1 0 2-.9 2-2V5c0-1.1-.9-2-2-2zM9 17H7v-7h2v7zm4 0h-2V7h2v10zm4 0h-2v-4h2v4z\"/>\n",
              "    </g>\n",
              "</svg>\n",
              "  </button>\n",
              "\n",
              "<style>\n",
              "  .colab-df-quickchart {\n",
              "      --bg-color: #E8F0FE;\n",
              "      --fill-color: #1967D2;\n",
              "      --hover-bg-color: #E2EBFA;\n",
              "      --hover-fill-color: #174EA6;\n",
              "      --disabled-fill-color: #AAA;\n",
              "      --disabled-bg-color: #DDD;\n",
              "  }\n",
              "\n",
              "  [theme=dark] .colab-df-quickchart {\n",
              "      --bg-color: #3B4455;\n",
              "      --fill-color: #D2E3FC;\n",
              "      --hover-bg-color: #434B5C;\n",
              "      --hover-fill-color: #FFFFFF;\n",
              "      --disabled-bg-color: #3B4455;\n",
              "      --disabled-fill-color: #666;\n",
              "  }\n",
              "\n",
              "  .colab-df-quickchart {\n",
              "    background-color: var(--bg-color);\n",
              "    border: none;\n",
              "    border-radius: 50%;\n",
              "    cursor: pointer;\n",
              "    display: none;\n",
              "    fill: var(--fill-color);\n",
              "    height: 32px;\n",
              "    padding: 0;\n",
              "    width: 32px;\n",
              "  }\n",
              "\n",
              "  .colab-df-quickchart:hover {\n",
              "    background-color: var(--hover-bg-color);\n",
              "    box-shadow: 0 1px 2px rgba(60, 64, 67, 0.3), 0 1px 3px 1px rgba(60, 64, 67, 0.15);\n",
              "    fill: var(--button-hover-fill-color);\n",
              "  }\n",
              "\n",
              "  .colab-df-quickchart-complete:disabled,\n",
              "  .colab-df-quickchart-complete:disabled:hover {\n",
              "    background-color: var(--disabled-bg-color);\n",
              "    fill: var(--disabled-fill-color);\n",
              "    box-shadow: none;\n",
              "  }\n",
              "\n",
              "  .colab-df-spinner {\n",
              "    border: 2px solid var(--fill-color);\n",
              "    border-color: transparent;\n",
              "    border-bottom-color: var(--fill-color);\n",
              "    animation:\n",
              "      spin 1s steps(1) infinite;\n",
              "  }\n",
              "\n",
              "  @keyframes spin {\n",
              "    0% {\n",
              "      border-color: transparent;\n",
              "      border-bottom-color: var(--fill-color);\n",
              "      border-left-color: var(--fill-color);\n",
              "    }\n",
              "    20% {\n",
              "      border-color: transparent;\n",
              "      border-left-color: var(--fill-color);\n",
              "      border-top-color: var(--fill-color);\n",
              "    }\n",
              "    30% {\n",
              "      border-color: transparent;\n",
              "      border-left-color: var(--fill-color);\n",
              "      border-top-color: var(--fill-color);\n",
              "      border-right-color: var(--fill-color);\n",
              "    }\n",
              "    40% {\n",
              "      border-color: transparent;\n",
              "      border-right-color: var(--fill-color);\n",
              "      border-top-color: var(--fill-color);\n",
              "    }\n",
              "    60% {\n",
              "      border-color: transparent;\n",
              "      border-right-color: var(--fill-color);\n",
              "    }\n",
              "    80% {\n",
              "      border-color: transparent;\n",
              "      border-right-color: var(--fill-color);\n",
              "      border-bottom-color: var(--fill-color);\n",
              "    }\n",
              "    90% {\n",
              "      border-color: transparent;\n",
              "      border-bottom-color: var(--fill-color);\n",
              "    }\n",
              "  }\n",
              "</style>\n",
              "\n",
              "  <script>\n",
              "    async function quickchart(key) {\n",
              "      const quickchartButtonEl =\n",
              "        document.querySelector('#' + key + ' button');\n",
              "      quickchartButtonEl.disabled = true;  // To prevent multiple clicks.\n",
              "      quickchartButtonEl.classList.add('colab-df-spinner');\n",
              "      try {\n",
              "        const charts = await google.colab.kernel.invokeFunction(\n",
              "            'suggestCharts', [key], {});\n",
              "      } catch (error) {\n",
              "        console.error('Error during call to suggestCharts:', error);\n",
              "      }\n",
              "      quickchartButtonEl.classList.remove('colab-df-spinner');\n",
              "      quickchartButtonEl.classList.add('colab-df-quickchart-complete');\n",
              "    }\n",
              "    (() => {\n",
              "      let quickchartButtonEl =\n",
              "        document.querySelector('#df-243eb3c6-b1f8-49e4-8618-831e4a2a2e73 button');\n",
              "      quickchartButtonEl.style.display =\n",
              "        google.colab.kernel.accessAllowed ? 'block' : 'none';\n",
              "    })();\n",
              "  </script>\n",
              "</div>\n",
              "\n",
              "    </div>\n",
              "  </div>\n"
            ],
            "application/vnd.google.colaboratory.intrinsic+json": {
              "type": "dataframe",
              "summary": "{\n  \"name\": \"resultados\",\n  \"rows\": 5,\n  \"fields\": [\n    {\n      \"column\": \"max_depth\",\n      \"properties\": {\n        \"dtype\": \"number\",\n        \"std\": 0,\n        \"min\": 2,\n        \"max\": 3,\n        \"samples\": [\n          3,\n          2\n        ],\n        \"num_unique_values\": 2,\n        \"semantic_type\": \"\",\n        \"description\": \"\"\n      }\n    },\n    {\n      \"column\": \"min_samples_leaf\",\n      \"properties\": {\n        \"dtype\": \"number\",\n        \"std\": 0,\n        \"min\": 32,\n        \"max\": 32,\n        \"samples\": [\n          32\n        ],\n        \"num_unique_values\": 1,\n        \"semantic_type\": \"\",\n        \"description\": \"\"\n      }\n    },\n    {\n      \"column\": \"min_samples_split\",\n      \"properties\": {\n        \"dtype\": \"number\",\n        \"std\": 96,\n        \"min\": 32,\n        \"max\": 256,\n        \"samples\": [\n          256\n        ],\n        \"num_unique_values\": 3,\n        \"semantic_type\": \"\",\n        \"description\": \"\"\n      }\n    },\n    {\n      \"column\": \"testing\",\n      \"properties\": {\n        \"dtype\": \"number\",\n        \"std\": 0.002500104314982044,\n        \"min\": 99.86271401516478,\n        \"max\": 99.86727856026289,\n        \"samples\": [\n          99.86271401516478\n        ],\n        \"num_unique_values\": 2,\n        \"semantic_type\": \"\",\n        \"description\": \"\"\n      }\n    },\n    {\n      \"column\": \"training\",\n      \"properties\": {\n        \"dtype\": \"number\",\n        \"std\": 0.0022596853215927607,\n        \"min\": 99.87070191477464,\n        \"max\": 99.87482751685297,\n        \"samples\": [\n          99.87482751685297\n        ],\n        \"num_unique_values\": 2,\n        \"semantic_type\": \"\",\n        \"description\": \"\"\n      }\n    },\n    {\n      \"column\": \"score_time\",\n      \"properties\": {\n        \"dtype\": \"number\",\n        \"std\": 0.0006636760474530596,\n        \"min\": 0.010786676406860351,\n        \"max\": 0.012300872802734375,\n        \"samples\": [\n          0.012072372436523437\n        ],\n        \"num_unique_values\": 5,\n        \"semantic_type\": \"\",\n        \"description\": \"\"\n      }\n    },\n    {\n      \"column\": \"fit_time\",\n      \"properties\": {\n        \"dtype\": \"number\",\n        \"std\": 0.8096351361777034,\n        \"min\": 2.92261323928833,\n        \"max\": 4.4511127948760985,\n        \"samples\": [\n          4.4511127948760985\n        ],\n        \"num_unique_values\": 5,\n        \"semantic_type\": \"\",\n        \"description\": \"\"\n      }\n    }\n  ]\n}"
            }
          },
          "metadata": {},
          "execution_count": 56
        }
      ]
    },
    {
      "cell_type": "code",
      "source": [
        "corr = resultados.corr()\n",
        "corr"
      ],
      "metadata": {
        "colab": {
          "base_uri": "https://localhost:8080/",
          "height": 269
        },
        "id": "40T3Bb2Nh0ZU",
        "outputId": "4bca5e24-b994-4478-db2f-9121356c0666"
      },
      "execution_count": 57,
      "outputs": [
        {
          "output_type": "execute_result",
          "data": {
            "text/plain": [
              "                      max_depth  min_samples_leaf  min_samples_split  \\\n",
              "max_depth          1.000000e+00      1.014371e-16       1.690619e-17   \n",
              "min_samples_leaf   1.014371e-16      1.000000e+00      -2.059544e-17   \n",
              "min_samples_split  1.690619e-17     -2.059544e-17       1.000000e+00   \n",
              "testing           -2.238006e-02     -8.837546e-01       6.998941e-02   \n",
              "training           1.894166e-01     -9.387708e-01      -3.468875e-02   \n",
              "score_time         9.004613e-02      1.610460e-01      -3.362088e-02   \n",
              "fit_time           9.991385e-01      1.108462e-03       4.302540e-03   \n",
              "\n",
              "                    testing  training  score_time  fit_time  \n",
              "max_depth         -0.022380  0.189417    0.090046  0.999138  \n",
              "min_samples_leaf  -0.883755 -0.938771    0.161046  0.001108  \n",
              "min_samples_split  0.069989 -0.034689   -0.033621  0.004303  \n",
              "testing            1.000000  0.872087   -0.136391 -0.023253  \n",
              "training           0.872087  1.000000   -0.117504  0.188480  \n",
              "score_time        -0.136391 -0.117504    1.000000  0.103203  \n",
              "fit_time          -0.023253  0.188480    0.103203  1.000000  "
            ],
            "text/html": [
              "\n",
              "  <div id=\"df-55a38a35-bf8e-4831-a9c8-929e2ba296f5\" class=\"colab-df-container\">\n",
              "    <div>\n",
              "<style scoped>\n",
              "    .dataframe tbody tr th:only-of-type {\n",
              "        vertical-align: middle;\n",
              "    }\n",
              "\n",
              "    .dataframe tbody tr th {\n",
              "        vertical-align: top;\n",
              "    }\n",
              "\n",
              "    .dataframe thead th {\n",
              "        text-align: right;\n",
              "    }\n",
              "</style>\n",
              "<table border=\"1\" class=\"dataframe\">\n",
              "  <thead>\n",
              "    <tr style=\"text-align: right;\">\n",
              "      <th></th>\n",
              "      <th>max_depth</th>\n",
              "      <th>min_samples_leaf</th>\n",
              "      <th>min_samples_split</th>\n",
              "      <th>testing</th>\n",
              "      <th>training</th>\n",
              "      <th>score_time</th>\n",
              "      <th>fit_time</th>\n",
              "    </tr>\n",
              "  </thead>\n",
              "  <tbody>\n",
              "    <tr>\n",
              "      <th>max_depth</th>\n",
              "      <td>1.000000e+00</td>\n",
              "      <td>1.014371e-16</td>\n",
              "      <td>1.690619e-17</td>\n",
              "      <td>-0.022380</td>\n",
              "      <td>0.189417</td>\n",
              "      <td>0.090046</td>\n",
              "      <td>0.999138</td>\n",
              "    </tr>\n",
              "    <tr>\n",
              "      <th>min_samples_leaf</th>\n",
              "      <td>1.014371e-16</td>\n",
              "      <td>1.000000e+00</td>\n",
              "      <td>-2.059544e-17</td>\n",
              "      <td>-0.883755</td>\n",
              "      <td>-0.938771</td>\n",
              "      <td>0.161046</td>\n",
              "      <td>0.001108</td>\n",
              "    </tr>\n",
              "    <tr>\n",
              "      <th>min_samples_split</th>\n",
              "      <td>1.690619e-17</td>\n",
              "      <td>-2.059544e-17</td>\n",
              "      <td>1.000000e+00</td>\n",
              "      <td>0.069989</td>\n",
              "      <td>-0.034689</td>\n",
              "      <td>-0.033621</td>\n",
              "      <td>0.004303</td>\n",
              "    </tr>\n",
              "    <tr>\n",
              "      <th>testing</th>\n",
              "      <td>-2.238006e-02</td>\n",
              "      <td>-8.837546e-01</td>\n",
              "      <td>6.998941e-02</td>\n",
              "      <td>1.000000</td>\n",
              "      <td>0.872087</td>\n",
              "      <td>-0.136391</td>\n",
              "      <td>-0.023253</td>\n",
              "    </tr>\n",
              "    <tr>\n",
              "      <th>training</th>\n",
              "      <td>1.894166e-01</td>\n",
              "      <td>-9.387708e-01</td>\n",
              "      <td>-3.468875e-02</td>\n",
              "      <td>0.872087</td>\n",
              "      <td>1.000000</td>\n",
              "      <td>-0.117504</td>\n",
              "      <td>0.188480</td>\n",
              "    </tr>\n",
              "    <tr>\n",
              "      <th>score_time</th>\n",
              "      <td>9.004613e-02</td>\n",
              "      <td>1.610460e-01</td>\n",
              "      <td>-3.362088e-02</td>\n",
              "      <td>-0.136391</td>\n",
              "      <td>-0.117504</td>\n",
              "      <td>1.000000</td>\n",
              "      <td>0.103203</td>\n",
              "    </tr>\n",
              "    <tr>\n",
              "      <th>fit_time</th>\n",
              "      <td>9.991385e-01</td>\n",
              "      <td>1.108462e-03</td>\n",
              "      <td>4.302540e-03</td>\n",
              "      <td>-0.023253</td>\n",
              "      <td>0.188480</td>\n",
              "      <td>0.103203</td>\n",
              "      <td>1.000000</td>\n",
              "    </tr>\n",
              "  </tbody>\n",
              "</table>\n",
              "</div>\n",
              "    <div class=\"colab-df-buttons\">\n",
              "\n",
              "  <div class=\"colab-df-container\">\n",
              "    <button class=\"colab-df-convert\" onclick=\"convertToInteractive('df-55a38a35-bf8e-4831-a9c8-929e2ba296f5')\"\n",
              "            title=\"Convert this dataframe to an interactive table.\"\n",
              "            style=\"display:none;\">\n",
              "\n",
              "  <svg xmlns=\"http://www.w3.org/2000/svg\" height=\"24px\" viewBox=\"0 -960 960 960\">\n",
              "    <path d=\"M120-120v-720h720v720H120Zm60-500h600v-160H180v160Zm220 220h160v-160H400v160Zm0 220h160v-160H400v160ZM180-400h160v-160H180v160Zm440 0h160v-160H620v160ZM180-180h160v-160H180v160Zm440 0h160v-160H620v160Z\"/>\n",
              "  </svg>\n",
              "    </button>\n",
              "\n",
              "  <style>\n",
              "    .colab-df-container {\n",
              "      display:flex;\n",
              "      gap: 12px;\n",
              "    }\n",
              "\n",
              "    .colab-df-convert {\n",
              "      background-color: #E8F0FE;\n",
              "      border: none;\n",
              "      border-radius: 50%;\n",
              "      cursor: pointer;\n",
              "      display: none;\n",
              "      fill: #1967D2;\n",
              "      height: 32px;\n",
              "      padding: 0 0 0 0;\n",
              "      width: 32px;\n",
              "    }\n",
              "\n",
              "    .colab-df-convert:hover {\n",
              "      background-color: #E2EBFA;\n",
              "      box-shadow: 0px 1px 2px rgba(60, 64, 67, 0.3), 0px 1px 3px 1px rgba(60, 64, 67, 0.15);\n",
              "      fill: #174EA6;\n",
              "    }\n",
              "\n",
              "    .colab-df-buttons div {\n",
              "      margin-bottom: 4px;\n",
              "    }\n",
              "\n",
              "    [theme=dark] .colab-df-convert {\n",
              "      background-color: #3B4455;\n",
              "      fill: #D2E3FC;\n",
              "    }\n",
              "\n",
              "    [theme=dark] .colab-df-convert:hover {\n",
              "      background-color: #434B5C;\n",
              "      box-shadow: 0px 1px 3px 1px rgba(0, 0, 0, 0.15);\n",
              "      filter: drop-shadow(0px 1px 2px rgba(0, 0, 0, 0.3));\n",
              "      fill: #FFFFFF;\n",
              "    }\n",
              "  </style>\n",
              "\n",
              "    <script>\n",
              "      const buttonEl =\n",
              "        document.querySelector('#df-55a38a35-bf8e-4831-a9c8-929e2ba296f5 button.colab-df-convert');\n",
              "      buttonEl.style.display =\n",
              "        google.colab.kernel.accessAllowed ? 'block' : 'none';\n",
              "\n",
              "      async function convertToInteractive(key) {\n",
              "        const element = document.querySelector('#df-55a38a35-bf8e-4831-a9c8-929e2ba296f5');\n",
              "        const dataTable =\n",
              "          await google.colab.kernel.invokeFunction('convertToInteractive',\n",
              "                                                    [key], {});\n",
              "        if (!dataTable) return;\n",
              "\n",
              "        const docLinkHtml = 'Like what you see? Visit the ' +\n",
              "          '<a target=\"_blank\" href=https://colab.research.google.com/notebooks/data_table.ipynb>data table notebook</a>'\n",
              "          + ' to learn more about interactive tables.';\n",
              "        element.innerHTML = '';\n",
              "        dataTable['output_type'] = 'display_data';\n",
              "        await google.colab.output.renderOutput(dataTable, element);\n",
              "        const docLink = document.createElement('div');\n",
              "        docLink.innerHTML = docLinkHtml;\n",
              "        element.appendChild(docLink);\n",
              "      }\n",
              "    </script>\n",
              "  </div>\n",
              "\n",
              "\n",
              "<div id=\"df-7c9bf4bc-4f30-4de2-990f-b25d231d9e99\">\n",
              "  <button class=\"colab-df-quickchart\" onclick=\"quickchart('df-7c9bf4bc-4f30-4de2-990f-b25d231d9e99')\"\n",
              "            title=\"Suggest charts\"\n",
              "            style=\"display:none;\">\n",
              "\n",
              "<svg xmlns=\"http://www.w3.org/2000/svg\" height=\"24px\"viewBox=\"0 0 24 24\"\n",
              "     width=\"24px\">\n",
              "    <g>\n",
              "        <path d=\"M19 3H5c-1.1 0-2 .9-2 2v14c0 1.1.9 2 2 2h14c1.1 0 2-.9 2-2V5c0-1.1-.9-2-2-2zM9 17H7v-7h2v7zm4 0h-2V7h2v10zm4 0h-2v-4h2v4z\"/>\n",
              "    </g>\n",
              "</svg>\n",
              "  </button>\n",
              "\n",
              "<style>\n",
              "  .colab-df-quickchart {\n",
              "      --bg-color: #E8F0FE;\n",
              "      --fill-color: #1967D2;\n",
              "      --hover-bg-color: #E2EBFA;\n",
              "      --hover-fill-color: #174EA6;\n",
              "      --disabled-fill-color: #AAA;\n",
              "      --disabled-bg-color: #DDD;\n",
              "  }\n",
              "\n",
              "  [theme=dark] .colab-df-quickchart {\n",
              "      --bg-color: #3B4455;\n",
              "      --fill-color: #D2E3FC;\n",
              "      --hover-bg-color: #434B5C;\n",
              "      --hover-fill-color: #FFFFFF;\n",
              "      --disabled-bg-color: #3B4455;\n",
              "      --disabled-fill-color: #666;\n",
              "  }\n",
              "\n",
              "  .colab-df-quickchart {\n",
              "    background-color: var(--bg-color);\n",
              "    border: none;\n",
              "    border-radius: 50%;\n",
              "    cursor: pointer;\n",
              "    display: none;\n",
              "    fill: var(--fill-color);\n",
              "    height: 32px;\n",
              "    padding: 0;\n",
              "    width: 32px;\n",
              "  }\n",
              "\n",
              "  .colab-df-quickchart:hover {\n",
              "    background-color: var(--hover-bg-color);\n",
              "    box-shadow: 0 1px 2px rgba(60, 64, 67, 0.3), 0 1px 3px 1px rgba(60, 64, 67, 0.15);\n",
              "    fill: var(--button-hover-fill-color);\n",
              "  }\n",
              "\n",
              "  .colab-df-quickchart-complete:disabled,\n",
              "  .colab-df-quickchart-complete:disabled:hover {\n",
              "    background-color: var(--disabled-bg-color);\n",
              "    fill: var(--disabled-fill-color);\n",
              "    box-shadow: none;\n",
              "  }\n",
              "\n",
              "  .colab-df-spinner {\n",
              "    border: 2px solid var(--fill-color);\n",
              "    border-color: transparent;\n",
              "    border-bottom-color: var(--fill-color);\n",
              "    animation:\n",
              "      spin 1s steps(1) infinite;\n",
              "  }\n",
              "\n",
              "  @keyframes spin {\n",
              "    0% {\n",
              "      border-color: transparent;\n",
              "      border-bottom-color: var(--fill-color);\n",
              "      border-left-color: var(--fill-color);\n",
              "    }\n",
              "    20% {\n",
              "      border-color: transparent;\n",
              "      border-left-color: var(--fill-color);\n",
              "      border-top-color: var(--fill-color);\n",
              "    }\n",
              "    30% {\n",
              "      border-color: transparent;\n",
              "      border-left-color: var(--fill-color);\n",
              "      border-top-color: var(--fill-color);\n",
              "      border-right-color: var(--fill-color);\n",
              "    }\n",
              "    40% {\n",
              "      border-color: transparent;\n",
              "      border-right-color: var(--fill-color);\n",
              "      border-top-color: var(--fill-color);\n",
              "    }\n",
              "    60% {\n",
              "      border-color: transparent;\n",
              "      border-right-color: var(--fill-color);\n",
              "    }\n",
              "    80% {\n",
              "      border-color: transparent;\n",
              "      border-right-color: var(--fill-color);\n",
              "      border-bottom-color: var(--fill-color);\n",
              "    }\n",
              "    90% {\n",
              "      border-color: transparent;\n",
              "      border-bottom-color: var(--fill-color);\n",
              "    }\n",
              "  }\n",
              "</style>\n",
              "\n",
              "  <script>\n",
              "    async function quickchart(key) {\n",
              "      const quickchartButtonEl =\n",
              "        document.querySelector('#' + key + ' button');\n",
              "      quickchartButtonEl.disabled = true;  // To prevent multiple clicks.\n",
              "      quickchartButtonEl.classList.add('colab-df-spinner');\n",
              "      try {\n",
              "        const charts = await google.colab.kernel.invokeFunction(\n",
              "            'suggestCharts', [key], {});\n",
              "      } catch (error) {\n",
              "        console.error('Error during call to suggestCharts:', error);\n",
              "      }\n",
              "      quickchartButtonEl.classList.remove('colab-df-spinner');\n",
              "      quickchartButtonEl.classList.add('colab-df-quickchart-complete');\n",
              "    }\n",
              "    (() => {\n",
              "      let quickchartButtonEl =\n",
              "        document.querySelector('#df-7c9bf4bc-4f30-4de2-990f-b25d231d9e99 button');\n",
              "      quickchartButtonEl.style.display =\n",
              "        google.colab.kernel.accessAllowed ? 'block' : 'none';\n",
              "    })();\n",
              "  </script>\n",
              "</div>\n",
              "\n",
              "  <div id=\"id_b19f6585-a254-4a8a-b4cf-f9166d9f8c64\">\n",
              "    <style>\n",
              "      .colab-df-generate {\n",
              "        background-color: #E8F0FE;\n",
              "        border: none;\n",
              "        border-radius: 50%;\n",
              "        cursor: pointer;\n",
              "        display: none;\n",
              "        fill: #1967D2;\n",
              "        height: 32px;\n",
              "        padding: 0 0 0 0;\n",
              "        width: 32px;\n",
              "      }\n",
              "\n",
              "      .colab-df-generate:hover {\n",
              "        background-color: #E2EBFA;\n",
              "        box-shadow: 0px 1px 2px rgba(60, 64, 67, 0.3), 0px 1px 3px 1px rgba(60, 64, 67, 0.15);\n",
              "        fill: #174EA6;\n",
              "      }\n",
              "\n",
              "      [theme=dark] .colab-df-generate {\n",
              "        background-color: #3B4455;\n",
              "        fill: #D2E3FC;\n",
              "      }\n",
              "\n",
              "      [theme=dark] .colab-df-generate:hover {\n",
              "        background-color: #434B5C;\n",
              "        box-shadow: 0px 1px 3px 1px rgba(0, 0, 0, 0.15);\n",
              "        filter: drop-shadow(0px 1px 2px rgba(0, 0, 0, 0.3));\n",
              "        fill: #FFFFFF;\n",
              "      }\n",
              "    </style>\n",
              "    <button class=\"colab-df-generate\" onclick=\"generateWithVariable('corr')\"\n",
              "            title=\"Generate code using this dataframe.\"\n",
              "            style=\"display:none;\">\n",
              "\n",
              "  <svg xmlns=\"http://www.w3.org/2000/svg\" height=\"24px\"viewBox=\"0 0 24 24\"\n",
              "       width=\"24px\">\n",
              "    <path d=\"M7,19H8.4L18.45,9,17,7.55,7,17.6ZM5,21V16.75L18.45,3.32a2,2,0,0,1,2.83,0l1.4,1.43a1.91,1.91,0,0,1,.58,1.4,1.91,1.91,0,0,1-.58,1.4L9.25,21ZM18.45,9,17,7.55Zm-12,3A5.31,5.31,0,0,0,4.9,8.1,5.31,5.31,0,0,0,1,6.5,5.31,5.31,0,0,0,4.9,4.9,5.31,5.31,0,0,0,6.5,1,5.31,5.31,0,0,0,8.1,4.9,5.31,5.31,0,0,0,12,6.5,5.46,5.46,0,0,0,6.5,12Z\"/>\n",
              "  </svg>\n",
              "    </button>\n",
              "    <script>\n",
              "      (() => {\n",
              "      const buttonEl =\n",
              "        document.querySelector('#id_b19f6585-a254-4a8a-b4cf-f9166d9f8c64 button.colab-df-generate');\n",
              "      buttonEl.style.display =\n",
              "        google.colab.kernel.accessAllowed ? 'block' : 'none';\n",
              "\n",
              "      buttonEl.onclick = () => {\n",
              "        google.colab.notebook.generateWithVariable('corr');\n",
              "      }\n",
              "      })();\n",
              "    </script>\n",
              "  </div>\n",
              "\n",
              "    </div>\n",
              "  </div>\n"
            ],
            "application/vnd.google.colaboratory.intrinsic+json": {
              "type": "dataframe",
              "variable_name": "corr",
              "summary": "{\n  \"name\": \"corr\",\n  \"rows\": 7,\n  \"fields\": [\n    {\n      \"column\": \"max_depth\",\n      \"properties\": {\n        \"dtype\": \"number\",\n        \"std\": 0.46824964622501164,\n        \"min\": -0.02238005901178945,\n        \"max\": 1.0,\n        \"samples\": [\n          1.0,\n          1.0143712371760229e-16,\n          0.09004612654867214\n        ],\n        \"num_unique_values\": 7,\n        \"semantic_type\": \"\",\n        \"description\": \"\"\n      }\n    },\n    {\n      \"column\": \"min_samples_leaf\",\n      \"properties\": {\n        \"dtype\": \"number\",\n        \"std\": 0.661557670460509,\n        \"min\": -0.9387707701525468,\n        \"max\": 1.0,\n        \"samples\": [\n          1.0143712371760229e-16,\n          1.0,\n          0.16104598753007343\n        ],\n        \"num_unique_values\": 7,\n        \"semantic_type\": \"\",\n        \"description\": \"\"\n      }\n    },\n    {\n      \"column\": \"min_samples_split\",\n      \"properties\": {\n        \"dtype\": \"number\",\n        \"std\": 0.3791831594929593,\n        \"min\": -0.034688748467414876,\n        \"max\": 1.0,\n        \"samples\": [\n          1.690618728626705e-17,\n          -2.0595441616234785e-17,\n          -0.03362087537174334\n        ],\n        \"num_unique_values\": 7,\n        \"semantic_type\": \"\",\n        \"description\": \"\"\n      }\n    },\n    {\n      \"column\": \"testing\",\n      \"properties\": {\n        \"dtype\": \"number\",\n        \"std\": 0.6398438226155934,\n        \"min\": -0.8837546338195695,\n        \"max\": 1.0,\n        \"samples\": [\n          -0.02238005901178945,\n          -0.8837546338195695,\n          -0.13639061628500343\n        ],\n        \"num_unique_values\": 7,\n        \"semantic_type\": \"\",\n        \"description\": \"\"\n      }\n    },\n    {\n      \"column\": \"training\",\n      \"properties\": {\n        \"dtype\": \"number\",\n        \"std\": 0.6501712939965368,\n        \"min\": -0.9387707701525468,\n        \"max\": 1.0,\n        \"samples\": [\n          0.18941656870867696,\n          -0.9387707701525468,\n          -0.11750386868649113\n        ],\n        \"num_unique_values\": 7,\n        \"semantic_type\": \"\",\n        \"description\": \"\"\n      }\n    },\n    {\n      \"column\": \"score_time\",\n      \"properties\": {\n        \"dtype\": \"number\",\n        \"std\": 0.3906534590621928,\n        \"min\": -0.13639061628500343,\n        \"max\": 1.0,\n        \"samples\": [\n          0.09004612654867214,\n          0.16104598753007343,\n          1.0\n        ],\n        \"num_unique_values\": 7,\n        \"semantic_type\": \"\",\n        \"description\": \"\"\n      }\n    },\n    {\n      \"column\": \"fit_time\",\n      \"properties\": {\n        \"dtype\": \"number\",\n        \"std\": 0.46671745989826646,\n        \"min\": -0.02325253188597911,\n        \"max\": 1.0,\n        \"samples\": [\n          0.9991384652994415,\n          0.0011084624647436268,\n          0.10320297339045786\n        ],\n        \"num_unique_values\": 7,\n        \"semantic_type\": \"\",\n        \"description\": \"\"\n      }\n    }\n  ]\n}"
            }
          },
          "metadata": {},
          "execution_count": 57
        }
      ]
    },
    {
      "cell_type": "markdown",
      "source": [
        "### Arbol de Decision con SciKit-Learn"
      ],
      "metadata": {
        "id": "DoHaZEMVqRMP"
      }
    },
    {
      "cell_type": "code",
      "source": [
        "from sklearn.tree import DecisionTreeClassifier\n",
        "\n",
        "skl_dt = DecisionTreeClassifier(max_depth=4, random_state=35, min_samples_leaf=32, min_samples_split=256)\n",
        "\n",
        "t0_skl = time.time()\n",
        "skl_dt.fit(X_train, y_train, sample_weight=w_train)\n",
        "\n",
        "#Calcula el tiempo que tarda el modelo en entrenarse\n",
        "skl_time = time.time()-t0_skl\n",
        "print(\"Tiempo entrenamiento SciKit-Learn (s):  {0:.5f}\".format(skl_time))"
      ],
      "metadata": {
        "colab": {
          "base_uri": "https://localhost:8080/"
        },
        "id": "KOszx2j2o4Re",
        "outputId": "fe187338-b56b-4197-a1a9-868bf78e2b5a"
      },
      "execution_count": 62,
      "outputs": [
        {
          "output_type": "stream",
          "name": "stdout",
          "text": [
            "Tiempo entrenamiento SciKit-Learn (s):  8.28475\n"
          ]
        }
      ]
    },
    {
      "cell_type": "markdown",
      "source": [
        "### Arbol de Decision con Snap ML"
      ],
      "metadata": {
        "id": "KM1BbW_ks4aN"
      }
    },
    {
      "cell_type": "code",
      "source": [
        "from snapml import DecisionTreeClassifier\n",
        "\n",
        "snapml_dt = DecisionTreeClassifier(max_depth=5, random_state=45, use_gpu=True, n_jobs=4)\n",
        "\n",
        "t0_snapml = time.time()\n",
        "snapml_dt.fit(X_train, y_train, sample_weight=w_train)\n",
        "\n",
        "#Calcula el tiempo que tarda el modelo en entrenarse\n",
        "snapml_time = time.time()-t0_snapml\n",
        "print(\"Tiempo entrenamiento Snap ML (s):  {0:.5f}\".format(snapml_time))"
      ],
      "metadata": {
        "colab": {
          "base_uri": "https://localhost:8080/"
        },
        "id": "cJFMxLyIs-RL",
        "outputId": "361185cf-3a10-4c07-a52a-d789a1ef170e"
      },
      "execution_count": null,
      "outputs": [
        {
          "output_type": "stream",
          "name": "stdout",
          "text": [
            "Tiempo entrenamiento Snap ML (s):  0.74628\n"
          ]
        }
      ]
    },
    {
      "cell_type": "markdown",
      "source": [
        "## Evaluacion de los modelos entrenados"
      ],
      "metadata": {
        "id": "qW05iesyuiJA"
      }
    },
    {
      "cell_type": "markdown",
      "source": [
        "Comparacion de los tiempos de entrenamiento de los modelos con SciKit-Learn y Snap ML"
      ],
      "metadata": {
        "id": "C9y-uxdVu2mP"
      }
    },
    {
      "cell_type": "code",
      "source": [
        "training_speedup = skl_time/snapml_time\n",
        "print('[Arbol de decision] mejora de tiempo Snap ML vs. Scikit-Learn: {0:.2f}x '.format(training_speedup))\n"
      ],
      "metadata": {
        "colab": {
          "base_uri": "https://localhost:8080/"
        },
        "id": "Osm5snlpug4y",
        "outputId": "fee0b310-4249-4ae3-9379-a00d57980ab2"
      },
      "execution_count": null,
      "outputs": [
        {
          "output_type": "stream",
          "name": "stdout",
          "text": [
            "[Arbol de decision] mejora de tiempo Snap ML vs. Scikit-Learn: 9.63x \n"
          ]
        }
      ]
    },
    {
      "cell_type": "markdown",
      "source": [
        "Se puede ver que hay una mejoria en el tiempode  entrenamiento de los modelos al utilizar Snap ML en vez de SciKit-Learn (6.50 veces mas rapido), esto se debe a que Snap Ml utiliza CPU/GPU para poder acelerar el entrenamiento de los modelos.\n",
        "Para este caso ambos tiempos de entrenamiento resultan buenos (menos de 10 segundos) pero para dataset de mayor tamaño puede resultar de mucha conveniencia el uso de Snap ML"
      ],
      "metadata": {
        "id": "wWbixMJUwZIg"
      }
    },
    {
      "cell_type": "code",
      "source": [
        "# calcular las probabilidades de que las muestras de prueba\n",
        "# pertenezcan a la clase de transacciones fraudulentas\n",
        "skl_pred = skl_dt.predict_proba(X_test)[:,1]\n",
        "\n",
        "# Clasificación Curva ROC y AUC\n",
        "skl_roc_auc = roc_auc_score(y_test, skl_pred)\n",
        "print('Scikit-Learn ROC-AUC score : {0:.3f}'.format(skl_roc_auc))\n"
      ],
      "metadata": {
        "colab": {
          "base_uri": "https://localhost:8080/"
        },
        "id": "ahtjhXX2wZnc",
        "outputId": "4102e049-c40f-4f1a-d00a-7c70ec4f9323"
      },
      "execution_count": 63,
      "outputs": [
        {
          "output_type": "stream",
          "name": "stdout",
          "text": [
            "Scikit-Learn ROC-AUC score : 0.937\n"
          ]
        }
      ]
    },
    {
      "cell_type": "code",
      "source": [
        "# calcular las probabilidades de que las muestras de prueba\n",
        "# pertenezcan a la clase de transacciones fraudulentas\n",
        "snapml_pred = snapml_dt.predict_proba(X_test)[:,1]\n",
        "\n",
        "# Clasificación Curva ROC y AUC\n",
        "snapml_roc_auc = roc_auc_score(y_test, snapml_pred)\n",
        "print('[Snap ML] ROC-AUC score : {0:.3f}'.format(snapml_roc_auc))"
      ],
      "metadata": {
        "colab": {
          "base_uri": "https://localhost:8080/"
        },
        "id": "jYjwXQeayeS4",
        "outputId": "dca4057c-3169-4d35-ec4f-152167508217"
      },
      "execution_count": null,
      "outputs": [
        {
          "output_type": "stream",
          "name": "stdout",
          "text": [
            "[Snap ML] ROC-AUC score : 0.900\n"
          ]
        }
      ]
    },
    {
      "cell_type": "markdown",
      "source": [
        "Una curva ROC representa TPR (Tasa de verdaderos positivos) frente a FPR (Tasa de falsos positivos) en diferentes umbrales de clasificación. Al disminuir el umbral de clasificación, se clasifican más elementos como positivos, lo que aumenta tanto los falsos positivos como los verdaderos positivos.\n",
        "AUC significa \"área bajo la curva ROC\". Es decir, el AUC mide el área bidimensional completa debajo de la curva ROC completa.\n",
        "Una forma de interpretar el AUC es como la probabilidad de que el modelo clasifique un ejemplo positivo aleatorio más alto que un ejemplo negativo aleatorio. El AUC varía en valor de 0 a 1. Un modelo cuyas predicciones son un 100% incorrectas tiene un AUC de 0.0; uno cuyas predicciones son un 100% correctas tiene un AUC de 1.0.\n"
      ],
      "metadata": {
        "id": "GazlU8wR0Nd5"
      }
    },
    {
      "cell_type": "markdown",
      "source": [
        "####Otras metricas de evaluacion de los modelos"
      ],
      "metadata": {
        "id": "WRPeOhrq1ZtS"
      }
    },
    {
      "cell_type": "markdown",
      "source": [
        "Definicion funciones a utilizar"
      ],
      "metadata": {
        "id": "AGwOH3V41tTr"
      }
    },
    {
      "cell_type": "code",
      "source": [
        "# Métricas y desempeño\n",
        "from sklearn.metrics import classification_report\n",
        "from sklearn.metrics import accuracy_score\n",
        "from sklearn.metrics import confusion_matrix, ConfusionMatrixDisplay # Grafica Matrix de confusión"
      ],
      "metadata": {
        "id": "ljr85Gdr1-7T"
      },
      "execution_count": 64,
      "outputs": []
    },
    {
      "cell_type": "markdown",
      "source": [
        "**Definicion de metricas de tabla de reporte**\n",
        "\n",
        "Precision: proporción de predicciones positivas que fueron correctas (cuántos casos que el modelo predijo como positivos, realmente eran positivos).\n",
        "\n",
        "Recall: proporción de casos reales positivos que fueron correctamente identificados (de todos los casos positivos reales, cuantos fueron identificados).\n",
        "\n",
        "F1-score: media armónica de precision y recall. Resume precisión y sensibilidad de un modelo en una sola métrica.\n",
        "\n",
        "Support: número de muestras de cada clase que se usaron para calcular las métricas.\n",
        "\n",
        "Macro avg: Promedio simple de métricas por clase. No considera tamaños.\n",
        "\n",
        "Weighted avg: Promedio ponderado por clase. Considera tamaños de clase."
      ],
      "metadata": {
        "id": "STrq-BdDKMc4"
      }
    },
    {
      "cell_type": "code",
      "source": [
        "def plot_confusion_matrix(y_true, y_preds, labels=None, model_name=None, normalize=None):\n",
        "    \"\"\"\n",
        "    Función para graficar la Matrix de confusión\n",
        "    y_true: vector de salida real\n",
        "    y_predic: vector de salida predicho por el modelo\n",
        "    labels: opcional, para nombrar las clases. Lista con strings\n",
        "    model_name: opcional, para poner un título al gráfico\n",
        "    normalize: {'true', 'pred', 'all'}, default=None\n",
        "        Normalizes confusion matrix over the true (rows), predicted (columns)\n",
        "        conditions or all the population. If None, confusion matrix will not be\n",
        "        normalized.\n",
        "    \"\"\"\n",
        "    if normalize:\n",
        "        cm = confusion_matrix(y_true, y_preds, normalize=normalize)\n",
        "    else:\n",
        "        cm = confusion_matrix(y_true, y_preds)\n",
        "    cmd = ConfusionMatrixDisplay(cm, display_labels=labels)\n",
        "    cmd.plot()\n",
        "    cmd.ax_.set(xlabel='Clase Predicha', ylabel='Clase Real')\n",
        "    if model_name:\n",
        "        cmd.ax_.set(title=model_name)"
      ],
      "metadata": {
        "id": "mWYcQ7FM1pod"
      },
      "execution_count": 18,
      "outputs": []
    },
    {
      "cell_type": "markdown",
      "source": [
        "Arbol de Decision SciKit-Learn"
      ],
      "metadata": {
        "id": "ERSfhnO9270w"
      }
    },
    {
      "cell_type": "code",
      "source": [
        "pred_skl_dt = skl_dt.predict(X_test)\n",
        "print(\"Reporte de Clasificacion: \\n\", classification_report(y_test, pred_skl_dt))"
      ],
      "metadata": {
        "colab": {
          "base_uri": "https://localhost:8080/"
        },
        "id": "BOWJzEqz1GF7",
        "outputId": "6a452034-e664-41d2-9351-d7b4f18f64c4"
      },
      "execution_count": 65,
      "outputs": [
        {
          "output_type": "stream",
          "name": "stdout",
          "text": [
            "Reporte de Clasificacion: \n",
            "               precision    recall  f1-score   support\n",
            "\n",
            "         0.0       1.00      0.97      0.99     85295\n",
            "         1.0       0.05      0.84      0.09       148\n",
            "\n",
            "    accuracy                           0.97     85443\n",
            "   macro avg       0.52      0.90      0.54     85443\n",
            "weighted avg       1.00      0.97      0.98     85443\n",
            "\n"
          ]
        }
      ]
    },
    {
      "cell_type": "code",
      "source": [
        "plot_confusion_matrix(y_test, pred_skl_dt, labels=labels, model_name=\"Árbol de Decisión SciKit-Learn\")"
      ],
      "metadata": {
        "colab": {
          "base_uri": "https://localhost:8080/",
          "height": 472
        },
        "id": "TvdbEB3N2qGP",
        "outputId": "ca37367e-5f93-4c36-8faf-b9dedd925f8c"
      },
      "execution_count": 66,
      "outputs": [
        {
          "output_type": "display_data",
          "data": {
            "text/plain": [
              "<Figure size 640x480 with 2 Axes>"
            ],
            "image/png": "[encoded data removed]"
          },
          "metadata": {}
        }
      ]
    },
    {
      "cell_type": "code",
      "source": [
        "from sklearn.tree import export_graphviz\n",
        "import graphviz\n",
        "\n",
        "data_aux = data.drop(['Time','Class'], axis=1)\n",
        "features = data_aux.columns\n",
        "dot_data = export_graphviz(skl_dt, out_file = None, filled = True, rounded = True, class_names = ['0','1'], feature_names = features)\n",
        "graph = graphviz.Source(dot_data)\n",
        "graph"
      ],
      "metadata": {
        "colab": {
          "base_uri": "https://localhost:8080/",
          "height": 936
        },
        "id": "ii8IyvG0GDXh",
        "outputId": "3a444e85-ae99-42d7-c7a0-1d4610bade4a"
      },
      "execution_count": 33,
      "outputs": [
        {
          "output_type": "execute_result",
          "data": {
            "image/svg+xml": "<?xml version=\"1.0\" encoding=\"UTF-8\" standalone=\"no\"?>\n<!DOCTYPE svg PUBLIC \"-//W3C//DTD SVG 1.1//EN\"\n \"http://www.w3.org/Graphics/SVG/1.1/DTD/svg11.dtd\">\n<!-- Generated by graphviz version 2.43.0 (0)\n -->\n<!-- Title: Tree Pages: 1 -->\n<svg width=\"3163pt\" height=\"671pt\"\n viewBox=\"0.00 0.00 3162.50 671.00\" xmlns=\"http://www.w3.org/2000/svg\" xmlns:xlink=\"http://www.w3.org/1999/xlink\">\n<g id=\"graph0\" class=\"graph\" transform=\"scale(1 1) rotate(0) translate(4 667)\">\n<title>Tree</title>\n<polygon fill=\"white\" stroke=\"transparent\" points=\"-4,4 -4,-667 3158.5,-667 3158.5,4 -4,4\"/>\n<!-- 0 -->\n<g id=\"node1\" class=\"node\">\n<title>0</title>\n<path fill=\"#ffffff\" stroke=\"black\" d=\"M1564,-663C1564,-663 1411,-663 1411,-663 1405,-663 1399,-657 1399,-651 1399,-651 1399,-592 1399,-592 1399,-586 1405,-580 1411,-580 1411,-580 1564,-580 1564,-580 1570,-580 1576,-586 1576,-592 1576,-592 1576,-651 1576,-651 1576,-657 1570,-663 1564,-663\"/>\n<text text-anchor=\"middle\" x=\"1487.5\" y=\"-647.8\" font-family=\"Helvetica,sans-Serif\" font-size=\"14.00\">V14 &lt;= &#45;0.047</text>\n<text text-anchor=\"middle\" x=\"1487.5\" y=\"-632.8\" font-family=\"Helvetica,sans-Serif\" font-size=\"14.00\">gini = 0.5</text>\n<text text-anchor=\"middle\" x=\"1487.5\" y=\"-617.8\" font-family=\"Helvetica,sans-Serif\" font-size=\"14.00\">samples = 199364</text>\n<text text-anchor=\"middle\" x=\"1487.5\" y=\"-602.8\" font-family=\"Helvetica,sans-Serif\" font-size=\"14.00\">value = [99682.0, 99682.0]</text>\n<text text-anchor=\"middle\" x=\"1487.5\" y=\"-587.8\" font-family=\"Helvetica,sans-Serif\" font-size=\"14.00\">class = 0</text>\n</g>\n<!-- 1 -->\n<g id=\"node2\" class=\"node\">\n<title>1</title>\n<path fill=\"#58ade9\" stroke=\"black\" d=\"M1283,-544C1283,-544 1100,-544 1100,-544 1094,-544 1088,-538 1088,-532 1088,-532 1088,-473 1088,-473 1088,-467 1094,-461 1100,-461 1100,-461 1283,-461 1283,-461 1289,-461 1295,-467 1295,-473 1295,-473 1295,-532 1295,-532 1295,-538 1289,-544 1283,-544\"/>\n<text text-anchor=\"middle\" x=\"1191.5\" y=\"-528.8\" font-family=\"Helvetica,sans-Serif\" font-size=\"14.00\">V12 &lt;= &#45;0.023</text>\n<text text-anchor=\"middle\" x=\"1191.5\" y=\"-513.8\" font-family=\"Helvetica,sans-Serif\" font-size=\"14.00\">gini = 0.236</text>\n<text text-anchor=\"middle\" x=\"1191.5\" y=\"-498.8\" font-family=\"Helvetica,sans-Serif\" font-size=\"14.00\">samples = 27246</text>\n<text text-anchor=\"middle\" x=\"1191.5\" y=\"-483.8\" font-family=\"Helvetica,sans-Serif\" font-size=\"14.00\">value = [13499.293, 85193.337]</text>\n<text text-anchor=\"middle\" x=\"1191.5\" y=\"-468.8\" font-family=\"Helvetica,sans-Serif\" font-size=\"14.00\">class = 1</text>\n</g>\n<!-- 0&#45;&gt;1 -->\n<g id=\"edge1\" class=\"edge\">\n<title>0&#45;&gt;1</title>\n<path fill=\"none\" stroke=\"black\" d=\"M1398.69,-585.4C1368.83,-573.59 1335.12,-560.27 1303.7,-547.85\"/>\n<polygon fill=\"black\" stroke=\"black\" points=\"1304.61,-544.45 1294.03,-544.03 1302.04,-550.96 1304.61,-544.45\"/>\n<text text-anchor=\"middle\" x=\"1303.97\" y=\"-563.26\" font-family=\"Helvetica,sans-Serif\" font-size=\"14.00\">True</text>\n</g>\n<!-- 24 -->\n<g id=\"node25\" class=\"node\">\n<title>24</title>\n<path fill=\"#e9965a\" stroke=\"black\" d=\"M1732,-544C1732,-544 1549,-544 1549,-544 1543,-544 1537,-538 1537,-532 1537,-532 1537,-473 1537,-473 1537,-467 1543,-461 1549,-461 1549,-461 1732,-461 1732,-461 1738,-461 1744,-467 1744,-473 1744,-473 1744,-532 1744,-532 1744,-538 1738,-544 1732,-544\"/>\n<text text-anchor=\"middle\" x=\"1640.5\" y=\"-528.8\" font-family=\"Helvetica,sans-Serif\" font-size=\"14.00\">V7 &lt;= &#45;0.082</text>\n<text text-anchor=\"middle\" x=\"1640.5\" y=\"-513.8\" font-family=\"Helvetica,sans-Serif\" font-size=\"14.00\">gini = 0.246</text>\n<text text-anchor=\"middle\" x=\"1640.5\" y=\"-498.8\" font-family=\"Helvetica,sans-Serif\" font-size=\"14.00\">samples = 172118</text>\n<text text-anchor=\"middle\" x=\"1640.5\" y=\"-483.8\" font-family=\"Helvetica,sans-Serif\" font-size=\"14.00\">value = [86182.707, 14488.663]</text>\n<text text-anchor=\"middle\" x=\"1640.5\" y=\"-468.8\" font-family=\"Helvetica,sans-Serif\" font-size=\"14.00\">class = 0</text>\n</g>\n<!-- 0&#45;&gt;24 -->\n<g id=\"edge24\" class=\"edge\">\n<title>0&#45;&gt;24</title>\n<path fill=\"none\" stroke=\"black\" d=\"M1540.58,-579.91C1553.04,-570.38 1566.42,-560.15 1579.21,-550.37\"/>\n<polygon fill=\"black\" stroke=\"black\" points=\"1581.69,-552.88 1587.51,-544.02 1577.44,-547.32 1581.69,-552.88\"/>\n<text text-anchor=\"middle\" x=\"1584.21\" y=\"-565.1\" font-family=\"Helvetica,sans-Serif\" font-size=\"14.00\">False</text>\n</g>\n<!-- 2 -->\n<g id=\"node3\" class=\"node\">\n<title>2</title>\n<path fill=\"#40a1e6\" stroke=\"black\" d=\"M618.5,-425C618.5,-425 442.5,-425 442.5,-425 436.5,-425 430.5,-419 430.5,-413 430.5,-413 430.5,-354 430.5,-354 430.5,-348 436.5,-342 442.5,-342 442.5,-342 618.5,-342 618.5,-342 624.5,-342 630.5,-348 630.5,-354 630.5,-354 630.5,-413 630.5,-413 630.5,-419 624.5,-425 618.5,-425\"/>\n<text text-anchor=\"middle\" x=\"530.5\" y=\"-409.8\" font-family=\"Helvetica,sans-Serif\" font-size=\"14.00\">V4 &lt;= &#45;0.008</text>\n<text text-anchor=\"middle\" x=\"530.5\" y=\"-394.8\" font-family=\"Helvetica,sans-Serif\" font-size=\"14.00\">gini = 0.067</text>\n<text text-anchor=\"middle\" x=\"530.5\" y=\"-379.8\" font-family=\"Helvetica,sans-Serif\" font-size=\"14.00\">samples = 5926</text>\n<text text-anchor=\"middle\" x=\"530.5\" y=\"-364.8\" font-family=\"Helvetica,sans-Serif\" font-size=\"14.00\">value = [2831.886, 78818.326]</text>\n<text text-anchor=\"middle\" x=\"530.5\" y=\"-349.8\" font-family=\"Helvetica,sans-Serif\" font-size=\"14.00\">class = 1</text>\n</g>\n<!-- 1&#45;&gt;2 -->\n<g id=\"edge2\" class=\"edge\">\n<title>1&#45;&gt;2</title>\n<path fill=\"none\" stroke=\"black\" d=\"M1087.86,-483.15C966.08,-461.6 764.89,-425.99 640.44,-403.96\"/>\n<polygon fill=\"black\" stroke=\"black\" points=\"640.96,-400.5 630.5,-402.2 639.74,-407.39 640.96,-400.5\"/>\n</g>\n<!-- 13 -->\n<g id=\"node14\" class=\"node\">\n<title>13</title>\n<path fill=\"#f5ccaf\" stroke=\"black\" d=\"M1279.5,-425C1279.5,-425 1103.5,-425 1103.5,-425 1097.5,-425 1091.5,-419 1091.5,-413 1091.5,-413 1091.5,-354 1091.5,-354 1091.5,-348 1097.5,-342 1103.5,-342 1103.5,-342 1279.5,-342 1279.5,-342 1285.5,-342 1291.5,-348 1291.5,-354 1291.5,-354 1291.5,-413 1291.5,-413 1291.5,-419 1285.5,-425 1279.5,-425\"/>\n<text text-anchor=\"middle\" x=\"1191.5\" y=\"-409.8\" font-family=\"Helvetica,sans-Serif\" font-size=\"14.00\">V17 &lt;= 0.062</text>\n<text text-anchor=\"middle\" x=\"1191.5\" y=\"-394.8\" font-family=\"Helvetica,sans-Serif\" font-size=\"14.00\">gini = 0.468</text>\n<text text-anchor=\"middle\" x=\"1191.5\" y=\"-379.8\" font-family=\"Helvetica,sans-Serif\" font-size=\"14.00\">samples = 21320</text>\n<text text-anchor=\"middle\" x=\"1191.5\" y=\"-364.8\" font-family=\"Helvetica,sans-Serif\" font-size=\"14.00\">value = [10667.406, 6375.012]</text>\n<text text-anchor=\"middle\" x=\"1191.5\" y=\"-349.8\" font-family=\"Helvetica,sans-Serif\" font-size=\"14.00\">class = 0</text>\n</g>\n<!-- 1&#45;&gt;13 -->\n<g id=\"edge13\" class=\"edge\">\n<title>1&#45;&gt;13</title>\n<path fill=\"none\" stroke=\"black\" d=\"M1191.5,-460.91C1191.5,-452.65 1191.5,-443.86 1191.5,-435.3\"/>\n<polygon fill=\"black\" stroke=\"black\" points=\"1195,-435.02 1191.5,-425.02 1188,-435.02 1195,-435.02\"/>\n</g>\n<!-- 3 -->\n<g id=\"node4\" class=\"node\">\n<title>3</title>\n<path fill=\"#e58139\" stroke=\"black\" d=\"M308,-306C308,-306 177,-306 177,-306 171,-306 165,-300 165,-294 165,-294 165,-235 165,-235 165,-229 171,-223 177,-223 177,-223 308,-223 308,-223 314,-223 320,-229 320,-235 320,-235 320,-294 320,-294 320,-300 314,-306 308,-306\"/>\n<text text-anchor=\"middle\" x=\"242.5\" y=\"-290.8\" font-family=\"Helvetica,sans-Serif\" font-size=\"14.00\">V23 &lt;= &#45;0.035</text>\n<text text-anchor=\"middle\" x=\"242.5\" y=\"-275.8\" font-family=\"Helvetica,sans-Serif\" font-size=\"14.00\">gini = 0.0</text>\n<text text-anchor=\"middle\" x=\"242.5\" y=\"-260.8\" font-family=\"Helvetica,sans-Serif\" font-size=\"14.00\">samples = 3651</text>\n<text text-anchor=\"middle\" x=\"242.5\" y=\"-245.8\" font-family=\"Helvetica,sans-Serif\" font-size=\"14.00\">value = [1828.655, 0.0]</text>\n<text text-anchor=\"middle\" x=\"242.5\" y=\"-230.8\" font-family=\"Helvetica,sans-Serif\" font-size=\"14.00\">class = 0</text>\n</g>\n<!-- 2&#45;&gt;3 -->\n<g id=\"edge3\" class=\"edge\">\n<title>2&#45;&gt;3</title>\n<path fill=\"none\" stroke=\"black\" d=\"M430.58,-341.91C397.75,-328.57 361.54,-313.86 329.74,-300.94\"/>\n<polygon fill=\"black\" stroke=\"black\" points=\"331.03,-297.69 320.45,-297.17 328.4,-304.17 331.03,-297.69\"/>\n</g>\n<!-- 6 -->\n<g id=\"node7\" class=\"node\">\n<title>6</title>\n<path fill=\"#3c9ee5\" stroke=\"black\" d=\"M618.5,-306C618.5,-306 442.5,-306 442.5,-306 436.5,-306 430.5,-300 430.5,-294 430.5,-294 430.5,-235 430.5,-235 430.5,-229 436.5,-223 442.5,-223 442.5,-223 618.5,-223 618.5,-223 624.5,-223 630.5,-229 630.5,-235 630.5,-235 630.5,-294 630.5,-294 630.5,-300 624.5,-306 618.5,-306\"/>\n<text text-anchor=\"middle\" x=\"530.5\" y=\"-290.8\" font-family=\"Helvetica,sans-Serif\" font-size=\"14.00\">V1 &lt;= 0.04</text>\n<text text-anchor=\"middle\" x=\"530.5\" y=\"-275.8\" font-family=\"Helvetica,sans-Serif\" font-size=\"14.00\">gini = 0.025</text>\n<text text-anchor=\"middle\" x=\"530.5\" y=\"-260.8\" font-family=\"Helvetica,sans-Serif\" font-size=\"14.00\">samples = 2275</text>\n<text text-anchor=\"middle\" x=\"530.5\" y=\"-245.8\" font-family=\"Helvetica,sans-Serif\" font-size=\"14.00\">value = [1003.231, 78818.326]</text>\n<text text-anchor=\"middle\" x=\"530.5\" y=\"-230.8\" font-family=\"Helvetica,sans-Serif\" font-size=\"14.00\">class = 1</text>\n</g>\n<!-- 2&#45;&gt;6 -->\n<g id=\"edge6\" class=\"edge\">\n<title>2&#45;&gt;6</title>\n<path fill=\"none\" stroke=\"black\" d=\"M530.5,-341.91C530.5,-333.65 530.5,-324.86 530.5,-316.3\"/>\n<polygon fill=\"black\" stroke=\"black\" points=\"534,-316.02 530.5,-306.02 527,-316.02 534,-316.02\"/>\n</g>\n<!-- 4 -->\n<g id=\"node5\" class=\"node\">\n<title>4</title>\n<path fill=\"#e58139\" stroke=\"black\" d=\"M135,-179.5C135,-179.5 12,-179.5 12,-179.5 6,-179.5 0,-173.5 0,-167.5 0,-167.5 0,-123.5 0,-123.5 0,-117.5 6,-111.5 12,-111.5 12,-111.5 135,-111.5 135,-111.5 141,-111.5 147,-117.5 147,-123.5 147,-123.5 147,-167.5 147,-167.5 147,-173.5 141,-179.5 135,-179.5\"/>\n<text text-anchor=\"middle\" x=\"73.5\" y=\"-164.3\" font-family=\"Helvetica,sans-Serif\" font-size=\"14.00\">gini = 0.0</text>\n<text text-anchor=\"middle\" x=\"73.5\" y=\"-149.3\" font-family=\"Helvetica,sans-Serif\" font-size=\"14.00\">samples = 256</text>\n<text text-anchor=\"middle\" x=\"73.5\" y=\"-134.3\" font-family=\"Helvetica,sans-Serif\" font-size=\"14.00\">value = [128.221, 0.0]</text>\n<text text-anchor=\"middle\" x=\"73.5\" y=\"-119.3\" font-family=\"Helvetica,sans-Serif\" font-size=\"14.00\">class = 0</text>\n</g>\n<!-- 3&#45;&gt;4 -->\n<g id=\"edge4\" class=\"edge\">\n<title>3&#45;&gt;4</title>\n<path fill=\"none\" stroke=\"black\" d=\"M183.87,-222.91C166.33,-210.77 147.16,-197.49 129.78,-185.46\"/>\n<polygon fill=\"black\" stroke=\"black\" points=\"131.62,-182.48 121.41,-179.67 127.64,-188.24 131.62,-182.48\"/>\n</g>\n<!-- 5 -->\n<g id=\"node6\" class=\"node\">\n<title>5</title>\n<path fill=\"#e58139\" stroke=\"black\" d=\"M308,-179.5C308,-179.5 177,-179.5 177,-179.5 171,-179.5 165,-173.5 165,-167.5 165,-167.5 165,-123.5 165,-123.5 165,-117.5 171,-111.5 177,-111.5 177,-111.5 308,-111.5 308,-111.5 314,-111.5 320,-117.5 320,-123.5 320,-123.5 320,-167.5 320,-167.5 320,-173.5 314,-179.5 308,-179.5\"/>\n<text text-anchor=\"middle\" x=\"242.5\" y=\"-164.3\" font-family=\"Helvetica,sans-Serif\" font-size=\"14.00\">gini = 0.0</text>\n<text text-anchor=\"middle\" x=\"242.5\" y=\"-149.3\" font-family=\"Helvetica,sans-Serif\" font-size=\"14.00\">samples = 3395</text>\n<text text-anchor=\"middle\" x=\"242.5\" y=\"-134.3\" font-family=\"Helvetica,sans-Serif\" font-size=\"14.00\">value = [1700.434, 0.0]</text>\n<text text-anchor=\"middle\" x=\"242.5\" y=\"-119.3\" font-family=\"Helvetica,sans-Serif\" font-size=\"14.00\">class = 0</text>\n</g>\n<!-- 3&#45;&gt;5 -->\n<g id=\"edge5\" class=\"edge\">\n<title>3&#45;&gt;5</title>\n<path fill=\"none\" stroke=\"black\" d=\"M242.5,-222.91C242.5,-212.2 242.5,-200.62 242.5,-189.78\"/>\n<polygon fill=\"black\" stroke=\"black\" points=\"246,-189.67 242.5,-179.67 239,-189.67 246,-189.67\"/>\n</g>\n<!-- 7 -->\n<g id=\"node8\" class=\"node\">\n<title>7</title>\n<path fill=\"#3b9ee5\" stroke=\"black\" d=\"M518.5,-187C518.5,-187 350.5,-187 350.5,-187 344.5,-187 338.5,-181 338.5,-175 338.5,-175 338.5,-116 338.5,-116 338.5,-110 344.5,-104 350.5,-104 350.5,-104 518.5,-104 518.5,-104 524.5,-104 530.5,-110 530.5,-116 530.5,-116 530.5,-175 530.5,-175 530.5,-181 524.5,-187 518.5,-187\"/>\n<text text-anchor=\"middle\" x=\"434.5\" y=\"-171.8\" font-family=\"Helvetica,sans-Serif\" font-size=\"14.00\">V10 &lt;= 0.007</text>\n<text text-anchor=\"middle\" x=\"434.5\" y=\"-156.8\" font-family=\"Helvetica,sans-Serif\" font-size=\"14.00\">gini = 0.018</text>\n<text text-anchor=\"middle\" x=\"434.5\" y=\"-141.8\" font-family=\"Helvetica,sans-Serif\" font-size=\"14.00\">samples = 1719</text>\n<text text-anchor=\"middle\" x=\"434.5\" y=\"-126.8\" font-family=\"Helvetica,sans-Serif\" font-size=\"14.00\">value = [724.751, 78818.326]</text>\n<text text-anchor=\"middle\" x=\"434.5\" y=\"-111.8\" font-family=\"Helvetica,sans-Serif\" font-size=\"14.00\">class = 1</text>\n</g>\n<!-- 6&#45;&gt;7 -->\n<g id=\"edge7\" class=\"edge\">\n<title>6&#45;&gt;7</title>\n<path fill=\"none\" stroke=\"black\" d=\"M497.19,-222.91C489.75,-213.83 481.78,-204.12 474.11,-194.77\"/>\n<polygon fill=\"black\" stroke=\"black\" points=\"476.8,-192.53 467.75,-187.02 471.39,-196.97 476.8,-192.53\"/>\n</g>\n<!-- 10 -->\n<g id=\"node11\" class=\"node\">\n<title>10</title>\n<path fill=\"#e58139\" stroke=\"black\" d=\"M684,-187C684,-187 561,-187 561,-187 555,-187 549,-181 549,-175 549,-175 549,-116 549,-116 549,-110 555,-104 561,-104 561,-104 684,-104 684,-104 690,-104 696,-110 696,-116 696,-116 696,-175 696,-175 696,-181 690,-187 684,-187\"/>\n<text text-anchor=\"middle\" x=\"622.5\" y=\"-171.8\" font-family=\"Helvetica,sans-Serif\" font-size=\"14.00\">V17 &lt;= 0.079</text>\n<text text-anchor=\"middle\" x=\"622.5\" y=\"-156.8\" font-family=\"Helvetica,sans-Serif\" font-size=\"14.00\">gini = 0.0</text>\n<text text-anchor=\"middle\" x=\"622.5\" y=\"-141.8\" font-family=\"Helvetica,sans-Serif\" font-size=\"14.00\">samples = 556</text>\n<text text-anchor=\"middle\" x=\"622.5\" y=\"-126.8\" font-family=\"Helvetica,sans-Serif\" font-size=\"14.00\">value = [278.481, 0.0]</text>\n<text text-anchor=\"middle\" x=\"622.5\" y=\"-111.8\" font-family=\"Helvetica,sans-Serif\" font-size=\"14.00\">class = 0</text>\n</g>\n<!-- 6&#45;&gt;10 -->\n<g id=\"edge10\" class=\"edge\">\n<title>6&#45;&gt;10</title>\n<path fill=\"none\" stroke=\"black\" d=\"M562.42,-222.91C569.48,-213.92 577.04,-204.32 584.32,-195.05\"/>\n<polygon fill=\"black\" stroke=\"black\" points=\"587.21,-197.05 590.64,-187.02 581.7,-192.72 587.21,-197.05\"/>\n</g>\n<!-- 8 -->\n<g id=\"node9\" class=\"node\">\n<title>8</title>\n<path fill=\"#3a9ee5\" stroke=\"black\" d=\"M330.5,-68C330.5,-68 162.5,-68 162.5,-68 156.5,-68 150.5,-62 150.5,-56 150.5,-56 150.5,-12 150.5,-12 150.5,-6 156.5,0 162.5,0 162.5,0 330.5,0 330.5,0 336.5,0 342.5,-6 342.5,-12 342.5,-12 342.5,-56 342.5,-56 342.5,-62 336.5,-68 330.5,-68\"/>\n<text text-anchor=\"middle\" x=\"246.5\" y=\"-52.8\" font-family=\"Helvetica,sans-Serif\" font-size=\"14.00\">gini = 0.014</text>\n<text text-anchor=\"middle\" x=\"246.5\" y=\"-37.8\" font-family=\"Helvetica,sans-Serif\" font-size=\"14.00\">samples = 1365</text>\n<text text-anchor=\"middle\" x=\"246.5\" y=\"-22.8\" font-family=\"Helvetica,sans-Serif\" font-size=\"14.00\">value = [547.445, 78818.326]</text>\n<text text-anchor=\"middle\" x=\"246.5\" y=\"-7.8\" font-family=\"Helvetica,sans-Serif\" font-size=\"14.00\">class = 1</text>\n</g>\n<!-- 7&#45;&gt;8 -->\n<g id=\"edge8\" class=\"edge\">\n<title>7&#45;&gt;8</title>\n<path fill=\"none\" stroke=\"black\" d=\"M364.76,-103.88C347.5,-93.83 329.06,-83.09 312.01,-73.16\"/>\n<polygon fill=\"black\" stroke=\"black\" points=\"313.63,-70.05 303.23,-68.04 310.11,-76.1 313.63,-70.05\"/>\n</g>\n<!-- 9 -->\n<g id=\"node10\" class=\"node\">\n<title>9</title>\n<path fill=\"#e58139\" stroke=\"black\" d=\"M496,-68C496,-68 373,-68 373,-68 367,-68 361,-62 361,-56 361,-56 361,-12 361,-12 361,-6 367,0 373,0 373,0 496,0 496,0 502,0 508,-6 508,-12 508,-12 508,-56 508,-56 508,-62 502,-68 496,-68\"/>\n<text text-anchor=\"middle\" x=\"434.5\" y=\"-52.8\" font-family=\"Helvetica,sans-Serif\" font-size=\"14.00\">gini = 0.0</text>\n<text text-anchor=\"middle\" x=\"434.5\" y=\"-37.8\" font-family=\"Helvetica,sans-Serif\" font-size=\"14.00\">samples = 354</text>\n<text text-anchor=\"middle\" x=\"434.5\" y=\"-22.8\" font-family=\"Helvetica,sans-Serif\" font-size=\"14.00\">value = [177.306, 0.0]</text>\n<text text-anchor=\"middle\" x=\"434.5\" y=\"-7.8\" font-family=\"Helvetica,sans-Serif\" font-size=\"14.00\">class = 0</text>\n</g>\n<!-- 7&#45;&gt;9 -->\n<g id=\"edge9\" class=\"edge\">\n<title>7&#45;&gt;9</title>\n<path fill=\"none\" stroke=\"black\" d=\"M434.5,-103.73C434.5,-95.52 434.5,-86.86 434.5,-78.56\"/>\n<polygon fill=\"black\" stroke=\"black\" points=\"438,-78.3 434.5,-68.3 431,-78.3 438,-78.3\"/>\n</g>\n<!-- 11 -->\n<g id=\"node12\" class=\"node\">\n<title>11</title>\n<path fill=\"#e58139\" stroke=\"black\" d=\"M661,-68C661,-68 538,-68 538,-68 532,-68 526,-62 526,-56 526,-56 526,-12 526,-12 526,-6 532,0 538,0 538,0 661,0 661,0 667,0 673,-6 673,-12 673,-12 673,-56 673,-56 673,-62 667,-68 661,-68\"/>\n<text text-anchor=\"middle\" x=\"599.5\" y=\"-52.8\" font-family=\"Helvetica,sans-Serif\" font-size=\"14.00\">gini = 0.0</text>\n<text text-anchor=\"middle\" x=\"599.5\" y=\"-37.8\" font-family=\"Helvetica,sans-Serif\" font-size=\"14.00\">samples = 256</text>\n<text text-anchor=\"middle\" x=\"599.5\" y=\"-22.8\" font-family=\"Helvetica,sans-Serif\" font-size=\"14.00\">value = [128.221, 0.0]</text>\n<text text-anchor=\"middle\" x=\"599.5\" y=\"-7.8\" font-family=\"Helvetica,sans-Serif\" font-size=\"14.00\">class = 0</text>\n</g>\n<!-- 10&#45;&gt;11 -->\n<g id=\"edge11\" class=\"edge\">\n<title>10&#45;&gt;11</title>\n<path fill=\"none\" stroke=\"black\" d=\"M613.94,-103.73C612.19,-95.43 610.35,-86.67 608.59,-78.28\"/>\n<polygon fill=\"black\" stroke=\"black\" points=\"611.98,-77.37 606.49,-68.3 605.12,-78.81 611.98,-77.37\"/>\n</g>\n<!-- 12 -->\n<g id=\"node13\" class=\"node\">\n<title>12</title>\n<path fill=\"#e58139\" stroke=\"black\" d=\"M826,-68C826,-68 703,-68 703,-68 697,-68 691,-62 691,-56 691,-56 691,-12 691,-12 691,-6 697,0 703,0 703,0 826,0 826,0 832,0 838,-6 838,-12 838,-12 838,-56 838,-56 838,-62 832,-68 826,-68\"/>\n<text text-anchor=\"middle\" x=\"764.5\" y=\"-52.8\" font-family=\"Helvetica,sans-Serif\" font-size=\"14.00\">gini = 0.0</text>\n<text text-anchor=\"middle\" x=\"764.5\" y=\"-37.8\" font-family=\"Helvetica,sans-Serif\" font-size=\"14.00\">samples = 300</text>\n<text text-anchor=\"middle\" x=\"764.5\" y=\"-22.8\" font-family=\"Helvetica,sans-Serif\" font-size=\"14.00\">value = [150.259, 0.0]</text>\n<text text-anchor=\"middle\" x=\"764.5\" y=\"-7.8\" font-family=\"Helvetica,sans-Serif\" font-size=\"14.00\">class = 0</text>\n</g>\n<!-- 10&#45;&gt;12 -->\n<g id=\"edge12\" class=\"edge\">\n<title>10&#45;&gt;12</title>\n<path fill=\"none\" stroke=\"black\" d=\"M675.38,-103.73C687.79,-94.15 701.01,-83.96 713.35,-74.44\"/>\n<polygon fill=\"black\" stroke=\"black\" points=\"715.54,-77.18 721.32,-68.3 711.26,-71.63 715.54,-77.18\"/>\n</g>\n<!-- 14 -->\n<g id=\"node15\" class=\"node\">\n<title>14</title>\n<path fill=\"#e99456\" stroke=\"black\" d=\"M1199.5,-306C1199.5,-306 1031.5,-306 1031.5,-306 1025.5,-306 1019.5,-300 1019.5,-294 1019.5,-294 1019.5,-235 1019.5,-235 1019.5,-229 1025.5,-223 1031.5,-223 1031.5,-223 1199.5,-223 1199.5,-223 1205.5,-223 1211.5,-229 1211.5,-235 1211.5,-235 1211.5,-294 1211.5,-294 1211.5,-300 1205.5,-306 1199.5,-306\"/>\n<text text-anchor=\"middle\" x=\"1115.5\" y=\"-290.8\" font-family=\"Helvetica,sans-Serif\" font-size=\"14.00\">V4 &lt;= 0.11</text>\n<text text-anchor=\"middle\" x=\"1115.5\" y=\"-275.8\" font-family=\"Helvetica,sans-Serif\" font-size=\"14.00\">gini = 0.226</text>\n<text text-anchor=\"middle\" x=\"1115.5\" y=\"-260.8\" font-family=\"Helvetica,sans-Serif\" font-size=\"14.00\">samples = 15550</text>\n<text text-anchor=\"middle\" x=\"1115.5\" y=\"-245.8\" font-family=\"Helvetica,sans-Serif\" font-size=\"14.00\">value = [7786.435, 1159.093]</text>\n<text text-anchor=\"middle\" x=\"1115.5\" y=\"-230.8\" font-family=\"Helvetica,sans-Serif\" font-size=\"14.00\">class = 0</text>\n</g>\n<!-- 13&#45;&gt;14 -->\n<g id=\"edge14\" class=\"edge\">\n<title>13&#45;&gt;14</title>\n<path fill=\"none\" stroke=\"black\" d=\"M1165.13,-341.91C1159.41,-333.1 1153.31,-323.7 1147.4,-314.61\"/>\n<polygon fill=\"black\" stroke=\"black\" points=\"1150.2,-312.5 1141.82,-306.02 1144.33,-316.31 1150.2,-312.5\"/>\n</g>\n<!-- 19 -->\n<g id=\"node20\" class=\"node\">\n<title>19</title>\n<path fill=\"#a6d3f3\" stroke=\"black\" d=\"M1409.5,-306C1409.5,-306 1241.5,-306 1241.5,-306 1235.5,-306 1229.5,-300 1229.5,-294 1229.5,-294 1229.5,-235 1229.5,-235 1229.5,-229 1235.5,-223 1241.5,-223 1241.5,-223 1409.5,-223 1409.5,-223 1415.5,-223 1421.5,-229 1421.5,-235 1421.5,-235 1421.5,-294 1421.5,-294 1421.5,-300 1415.5,-306 1409.5,-306\"/>\n<text text-anchor=\"middle\" x=\"1325.5\" y=\"-290.8\" font-family=\"Helvetica,sans-Serif\" font-size=\"14.00\">V18 &lt;= 0.003</text>\n<text text-anchor=\"middle\" x=\"1325.5\" y=\"-275.8\" font-family=\"Helvetica,sans-Serif\" font-size=\"14.00\">gini = 0.458</text>\n<text text-anchor=\"middle\" x=\"1325.5\" y=\"-260.8\" font-family=\"Helvetica,sans-Serif\" font-size=\"14.00\">samples = 5770</text>\n<text text-anchor=\"middle\" x=\"1325.5\" y=\"-245.8\" font-family=\"Helvetica,sans-Serif\" font-size=\"14.00\">value = [2880.971, 5215.919]</text>\n<text text-anchor=\"middle\" x=\"1325.5\" y=\"-230.8\" font-family=\"Helvetica,sans-Serif\" font-size=\"14.00\">class = 1</text>\n</g>\n<!-- 13&#45;&gt;19 -->\n<g id=\"edge19\" class=\"edge\">\n<title>13&#45;&gt;19</title>\n<path fill=\"none\" stroke=\"black\" d=\"M1237.99,-341.91C1248.8,-332.47 1260.4,-322.34 1271.5,-312.65\"/>\n<polygon fill=\"black\" stroke=\"black\" points=\"1273.86,-315.23 1279.09,-306.02 1269.26,-309.96 1273.86,-315.23\"/>\n</g>\n<!-- 15 -->\n<g id=\"node16\" class=\"node\">\n<title>15</title>\n<path fill=\"#e68640\" stroke=\"black\" d=\"M1016,-187C1016,-187 855,-187 855,-187 849,-187 843,-181 843,-175 843,-175 843,-116 843,-116 843,-110 849,-104 855,-104 855,-104 1016,-104 1016,-104 1022,-104 1028,-110 1028,-116 1028,-116 1028,-175 1028,-175 1028,-181 1022,-187 1016,-187\"/>\n<text text-anchor=\"middle\" x=\"935.5\" y=\"-171.8\" font-family=\"Helvetica,sans-Serif\" font-size=\"14.00\">V14 &lt;= &#45;0.047</text>\n<text text-anchor=\"middle\" x=\"935.5\" y=\"-156.8\" font-family=\"Helvetica,sans-Serif\" font-size=\"14.00\">gini = 0.07</text>\n<text text-anchor=\"middle\" x=\"935.5\" y=\"-141.8\" font-family=\"Helvetica,sans-Serif\" font-size=\"14.00\">samples = 15294</text>\n<text text-anchor=\"middle\" x=\"935.5\" y=\"-126.8\" font-family=\"Helvetica,sans-Serif\" font-size=\"14.00\">value = [7659.717, 289.773]</text>\n<text text-anchor=\"middle\" x=\"935.5\" y=\"-111.8\" font-family=\"Helvetica,sans-Serif\" font-size=\"14.00\">class = 0</text>\n</g>\n<!-- 14&#45;&gt;15 -->\n<g id=\"edge15\" class=\"edge\">\n<title>14&#45;&gt;15</title>\n<path fill=\"none\" stroke=\"black\" d=\"M1053.05,-222.91C1037.97,-213.11 1021.75,-202.56 1006.32,-192.53\"/>\n<polygon fill=\"black\" stroke=\"black\" points=\"1008.13,-189.54 997.84,-187.02 1004.32,-195.41 1008.13,-189.54\"/>\n</g>\n<!-- 18 -->\n<g id=\"node19\" class=\"node\">\n<title>18</title>\n<path fill=\"#56abe9\" stroke=\"black\" d=\"M1204.5,-179.5C1204.5,-179.5 1058.5,-179.5 1058.5,-179.5 1052.5,-179.5 1046.5,-173.5 1046.5,-167.5 1046.5,-167.5 1046.5,-123.5 1046.5,-123.5 1046.5,-117.5 1052.5,-111.5 1058.5,-111.5 1058.5,-111.5 1204.5,-111.5 1204.5,-111.5 1210.5,-111.5 1216.5,-117.5 1216.5,-123.5 1216.5,-123.5 1216.5,-167.5 1216.5,-167.5 1216.5,-173.5 1210.5,-179.5 1204.5,-179.5\"/>\n<text text-anchor=\"middle\" x=\"1131.5\" y=\"-164.3\" font-family=\"Helvetica,sans-Serif\" font-size=\"14.00\">gini = 0.222</text>\n<text text-anchor=\"middle\" x=\"1131.5\" y=\"-149.3\" font-family=\"Helvetica,sans-Serif\" font-size=\"14.00\">samples = 256</text>\n<text text-anchor=\"middle\" x=\"1131.5\" y=\"-134.3\" font-family=\"Helvetica,sans-Serif\" font-size=\"14.00\">value = [126.719, 869.32]</text>\n<text text-anchor=\"middle\" x=\"1131.5\" y=\"-119.3\" font-family=\"Helvetica,sans-Serif\" font-size=\"14.00\">class = 1</text>\n</g>\n<!-- 14&#45;&gt;18 -->\n<g id=\"edge18\" class=\"edge\">\n<title>14&#45;&gt;18</title>\n<path fill=\"none\" stroke=\"black\" d=\"M1121.05,-222.91C1122.51,-212.2 1124.1,-200.62 1125.58,-189.78\"/>\n<polygon fill=\"black\" stroke=\"black\" points=\"1129.08,-190.05 1126.96,-179.67 1122.14,-189.1 1129.08,-190.05\"/>\n</g>\n<!-- 16 -->\n<g id=\"node17\" class=\"node\">\n<title>16</title>\n<path fill=\"#e58139\" stroke=\"black\" d=\"M999,-68C999,-68 868,-68 868,-68 862,-68 856,-62 856,-56 856,-56 856,-12 856,-12 856,-6 862,0 868,0 868,0 999,0 999,0 1005,0 1011,-6 1011,-12 1011,-12 1011,-56 1011,-56 1011,-62 1005,-68 999,-68\"/>\n<text text-anchor=\"middle\" x=\"933.5\" y=\"-52.8\" font-family=\"Helvetica,sans-Serif\" font-size=\"14.00\">gini = 0.0</text>\n<text text-anchor=\"middle\" x=\"933.5\" y=\"-37.8\" font-family=\"Helvetica,sans-Serif\" font-size=\"14.00\">samples = 15038</text>\n<text text-anchor=\"middle\" x=\"933.5\" y=\"-22.8\" font-family=\"Helvetica,sans-Serif\" font-size=\"14.00\">value = [7531.996, 0.0]</text>\n<text text-anchor=\"middle\" x=\"933.5\" y=\"-7.8\" font-family=\"Helvetica,sans-Serif\" font-size=\"14.00\">class = 0</text>\n</g>\n<!-- 15&#45;&gt;16 -->\n<g id=\"edge16\" class=\"edge\">\n<title>15&#45;&gt;16</title>\n<path fill=\"none\" stroke=\"black\" d=\"M934.76,-103.73C934.61,-95.52 934.45,-86.86 934.3,-78.56\"/>\n<polygon fill=\"black\" stroke=\"black\" points=\"937.79,-78.23 934.11,-68.3 930.79,-78.36 937.79,-78.23\"/>\n</g>\n<!-- 17 -->\n<g id=\"node18\" class=\"node\">\n<title>17</title>\n<path fill=\"#90c8f0\" stroke=\"black\" d=\"M1187.5,-68C1187.5,-68 1041.5,-68 1041.5,-68 1035.5,-68 1029.5,-62 1029.5,-56 1029.5,-56 1029.5,-12 1029.5,-12 1029.5,-6 1035.5,0 1041.5,0 1041.5,0 1187.5,0 1187.5,0 1193.5,0 1199.5,-6 1199.5,-12 1199.5,-12 1199.5,-56 1199.5,-56 1199.5,-62 1193.5,-68 1187.5,-68\"/>\n<text text-anchor=\"middle\" x=\"1114.5\" y=\"-52.8\" font-family=\"Helvetica,sans-Serif\" font-size=\"14.00\">gini = 0.425</text>\n<text text-anchor=\"middle\" x=\"1114.5\" y=\"-37.8\" font-family=\"Helvetica,sans-Serif\" font-size=\"14.00\">samples = 256</text>\n<text text-anchor=\"middle\" x=\"1114.5\" y=\"-22.8\" font-family=\"Helvetica,sans-Serif\" font-size=\"14.00\">value = [127.72, 289.773]</text>\n<text text-anchor=\"middle\" x=\"1114.5\" y=\"-7.8\" font-family=\"Helvetica,sans-Serif\" font-size=\"14.00\">class = 1</text>\n</g>\n<!-- 15&#45;&gt;17 -->\n<g id=\"edge17\" class=\"edge\">\n<title>15&#45;&gt;17</title>\n<path fill=\"none\" stroke=\"black\" d=\"M1001.9,-103.88C1018.18,-93.92 1035.57,-83.29 1051.68,-73.43\"/>\n<polygon fill=\"black\" stroke=\"black\" points=\"1053.78,-76.25 1060.48,-68.04 1050.13,-70.28 1053.78,-76.25\"/>\n</g>\n<!-- 20 -->\n<g id=\"node21\" class=\"node\">\n<title>20</title>\n<path fill=\"#e58139\" stroke=\"black\" d=\"M1372,-179.5C1372,-179.5 1249,-179.5 1249,-179.5 1243,-179.5 1237,-173.5 1237,-167.5 1237,-167.5 1237,-123.5 1237,-123.5 1237,-117.5 1243,-111.5 1249,-111.5 1249,-111.5 1372,-111.5 1372,-111.5 1378,-111.5 1384,-117.5 1384,-123.5 1384,-123.5 1384,-167.5 1384,-167.5 1384,-173.5 1378,-179.5 1372,-179.5\"/>\n<text text-anchor=\"middle\" x=\"1310.5\" y=\"-164.3\" font-family=\"Helvetica,sans-Serif\" font-size=\"14.00\">gini = 0.0</text>\n<text text-anchor=\"middle\" x=\"1310.5\" y=\"-149.3\" font-family=\"Helvetica,sans-Serif\" font-size=\"14.00\">samples = 1778</text>\n<text text-anchor=\"middle\" x=\"1310.5\" y=\"-134.3\" font-family=\"Helvetica,sans-Serif\" font-size=\"14.00\">value = [890.537, 0.0]</text>\n<text text-anchor=\"middle\" x=\"1310.5\" y=\"-119.3\" font-family=\"Helvetica,sans-Serif\" font-size=\"14.00\">class = 0</text>\n</g>\n<!-- 19&#45;&gt;20 -->\n<g id=\"edge20\" class=\"edge\">\n<title>19&#45;&gt;20</title>\n<path fill=\"none\" stroke=\"black\" d=\"M1320.3,-222.91C1318.92,-212.2 1317.44,-200.62 1316.05,-189.78\"/>\n<polygon fill=\"black\" stroke=\"black\" points=\"1319.5,-189.14 1314.75,-179.67 1312.55,-190.03 1319.5,-189.14\"/>\n</g>\n<!-- 21 -->\n<g id=\"node22\" class=\"node\">\n<title>21</title>\n<path fill=\"#85c2ef\" stroke=\"black\" d=\"M1582.5,-187C1582.5,-187 1414.5,-187 1414.5,-187 1408.5,-187 1402.5,-181 1402.5,-175 1402.5,-175 1402.5,-116 1402.5,-116 1402.5,-110 1408.5,-104 1414.5,-104 1414.5,-104 1582.5,-104 1582.5,-104 1588.5,-104 1594.5,-110 1594.5,-116 1594.5,-116 1594.5,-175 1594.5,-175 1594.5,-181 1588.5,-187 1582.5,-187\"/>\n<text text-anchor=\"middle\" x=\"1498.5\" y=\"-171.8\" font-family=\"Helvetica,sans-Serif\" font-size=\"14.00\">V27 &lt;= 0.009</text>\n<text text-anchor=\"middle\" x=\"1498.5\" y=\"-156.8\" font-family=\"Helvetica,sans-Serif\" font-size=\"14.00\">gini = 0.4</text>\n<text text-anchor=\"middle\" x=\"1498.5\" y=\"-141.8\" font-family=\"Helvetica,sans-Serif\" font-size=\"14.00\">samples = 3992</text>\n<text text-anchor=\"middle\" x=\"1498.5\" y=\"-126.8\" font-family=\"Helvetica,sans-Serif\" font-size=\"14.00\">value = [1990.434, 5215.919]</text>\n<text text-anchor=\"middle\" x=\"1498.5\" y=\"-111.8\" font-family=\"Helvetica,sans-Serif\" font-size=\"14.00\">class = 1</text>\n</g>\n<!-- 19&#45;&gt;21 -->\n<g id=\"edge21\" class=\"edge\">\n<title>19&#45;&gt;21</title>\n<path fill=\"none\" stroke=\"black\" d=\"M1385.52,-222.91C1399.88,-213.2 1415.31,-202.76 1430.02,-192.81\"/>\n<polygon fill=\"black\" stroke=\"black\" points=\"1432.26,-195.52 1438.58,-187.02 1428.34,-189.72 1432.26,-195.52\"/>\n</g>\n<!-- 22 -->\n<g id=\"node23\" class=\"node\">\n<title>22</title>\n<path fill=\"#71b9ec\" stroke=\"black\" d=\"M1397.5,-68C1397.5,-68 1229.5,-68 1229.5,-68 1223.5,-68 1217.5,-62 1217.5,-56 1217.5,-56 1217.5,-12 1217.5,-12 1217.5,-6 1223.5,0 1229.5,0 1229.5,0 1397.5,0 1397.5,0 1403.5,0 1409.5,-6 1409.5,-12 1409.5,-12 1409.5,-56 1409.5,-56 1409.5,-62 1403.5,-68 1397.5,-68\"/>\n<text text-anchor=\"middle\" x=\"1313.5\" y=\"-52.8\" font-family=\"Helvetica,sans-Serif\" font-size=\"14.00\">gini = 0.345</text>\n<text text-anchor=\"middle\" x=\"1313.5\" y=\"-37.8\" font-family=\"Helvetica,sans-Serif\" font-size=\"14.00\">samples = 2984</text>\n<text text-anchor=\"middle\" x=\"1313.5\" y=\"-22.8\" font-family=\"Helvetica,sans-Serif\" font-size=\"14.00\">value = [1485.563, 5215.919]</text>\n<text text-anchor=\"middle\" x=\"1313.5\" y=\"-7.8\" font-family=\"Helvetica,sans-Serif\" font-size=\"14.00\">class = 1</text>\n</g>\n<!-- 21&#45;&gt;22 -->\n<g id=\"edge22\" class=\"edge\">\n<title>21&#45;&gt;22</title>\n<path fill=\"none\" stroke=\"black\" d=\"M1429.88,-103.88C1412.89,-93.83 1394.75,-83.09 1377.97,-73.16\"/>\n<polygon fill=\"black\" stroke=\"black\" points=\"1379.71,-70.12 1369.33,-68.04 1376.15,-76.15 1379.71,-70.12\"/>\n</g>\n<!-- 23 -->\n<g id=\"node24\" class=\"node\">\n<title>23</title>\n<path fill=\"#e58139\" stroke=\"black\" d=\"M1563,-68C1563,-68 1440,-68 1440,-68 1434,-68 1428,-62 1428,-56 1428,-56 1428,-12 1428,-12 1428,-6 1434,0 1440,0 1440,0 1563,0 1563,0 1569,0 1575,-6 1575,-12 1575,-12 1575,-56 1575,-56 1575,-62 1569,-68 1563,-68\"/>\n<text text-anchor=\"middle\" x=\"1501.5\" y=\"-52.8\" font-family=\"Helvetica,sans-Serif\" font-size=\"14.00\">gini = 0.0</text>\n<text text-anchor=\"middle\" x=\"1501.5\" y=\"-37.8\" font-family=\"Helvetica,sans-Serif\" font-size=\"14.00\">samples = 1008</text>\n<text text-anchor=\"middle\" x=\"1501.5\" y=\"-22.8\" font-family=\"Helvetica,sans-Serif\" font-size=\"14.00\">value = [504.871, 0.0]</text>\n<text text-anchor=\"middle\" x=\"1501.5\" y=\"-7.8\" font-family=\"Helvetica,sans-Serif\" font-size=\"14.00\">class = 0</text>\n</g>\n<!-- 21&#45;&gt;23 -->\n<g id=\"edge23\" class=\"edge\">\n<title>21&#45;&gt;23</title>\n<path fill=\"none\" stroke=\"black\" d=\"M1499.62,-103.73C1499.84,-95.52 1500.08,-86.86 1500.31,-78.56\"/>\n<polygon fill=\"black\" stroke=\"black\" points=\"1503.81,-78.39 1500.59,-68.3 1496.82,-78.2 1503.81,-78.39\"/>\n</g>\n<!-- 25 -->\n<g id=\"node26\" class=\"node\">\n<title>25</title>\n<path fill=\"#47a4e7\" stroke=\"black\" d=\"M1721,-425C1721,-425 1560,-425 1560,-425 1554,-425 1548,-419 1548,-413 1548,-413 1548,-354 1548,-354 1548,-348 1554,-342 1560,-342 1560,-342 1721,-342 1721,-342 1727,-342 1733,-348 1733,-354 1733,-354 1733,-413 1733,-413 1733,-419 1727,-425 1721,-425\"/>\n<text text-anchor=\"middle\" x=\"1640.5\" y=\"-409.8\" font-family=\"Helvetica,sans-Serif\" font-size=\"14.00\">V4 &lt;= 0.009</text>\n<text text-anchor=\"middle\" x=\"1640.5\" y=\"-394.8\" font-family=\"Helvetica,sans-Serif\" font-size=\"14.00\">gini = 0.124</text>\n<text text-anchor=\"middle\" x=\"1640.5\" y=\"-379.8\" font-family=\"Helvetica,sans-Serif\" font-size=\"14.00\">samples = 969</text>\n<text text-anchor=\"middle\" x=\"1640.5\" y=\"-364.8\" font-family=\"Helvetica,sans-Serif\" font-size=\"14.00\">value = [473.818, 6664.785]</text>\n<text text-anchor=\"middle\" x=\"1640.5\" y=\"-349.8\" font-family=\"Helvetica,sans-Serif\" font-size=\"14.00\">class = 1</text>\n</g>\n<!-- 24&#45;&gt;25 -->\n<g id=\"edge25\" class=\"edge\">\n<title>24&#45;&gt;25</title>\n<path fill=\"none\" stroke=\"black\" d=\"M1640.5,-460.91C1640.5,-452.65 1640.5,-443.86 1640.5,-435.3\"/>\n<polygon fill=\"black\" stroke=\"black\" points=\"1644,-435.02 1640.5,-425.02 1637,-435.02 1644,-435.02\"/>\n</g>\n<!-- 28 -->\n<g id=\"node29\" class=\"node\">\n<title>28</title>\n<path fill=\"#e78d4b\" stroke=\"black\" d=\"M2076.5,-425C2076.5,-425 1908.5,-425 1908.5,-425 1902.5,-425 1896.5,-419 1896.5,-413 1896.5,-413 1896.5,-354 1896.5,-354 1896.5,-348 1902.5,-342 1908.5,-342 1908.5,-342 2076.5,-342 2076.5,-342 2082.5,-342 2088.5,-348 2088.5,-354 2088.5,-354 2088.5,-413 2088.5,-413 2088.5,-419 2082.5,-425 2076.5,-425\"/>\n<text text-anchor=\"middle\" x=\"1992.5\" y=\"-409.8\" font-family=\"Helvetica,sans-Serif\" font-size=\"14.00\">V4 &lt;= 0.05</text>\n<text text-anchor=\"middle\" x=\"1992.5\" y=\"-394.8\" font-family=\"Helvetica,sans-Serif\" font-size=\"14.00\">gini = 0.153</text>\n<text text-anchor=\"middle\" x=\"1992.5\" y=\"-379.8\" font-family=\"Helvetica,sans-Serif\" font-size=\"14.00\">samples = 171149</text>\n<text text-anchor=\"middle\" x=\"1992.5\" y=\"-364.8\" font-family=\"Helvetica,sans-Serif\" font-size=\"14.00\">value = [85708.89, 7823.878]</text>\n<text text-anchor=\"middle\" x=\"1992.5\" y=\"-349.8\" font-family=\"Helvetica,sans-Serif\" font-size=\"14.00\">class = 0</text>\n</g>\n<!-- 24&#45;&gt;28 -->\n<g id=\"edge28\" class=\"edge\">\n<title>24&#45;&gt;28</title>\n<path fill=\"none\" stroke=\"black\" d=\"M1744.21,-467.03C1789.17,-452.08 1841.76,-434.6 1886.93,-419.59\"/>\n<polygon fill=\"black\" stroke=\"black\" points=\"1888.07,-422.9 1896.45,-416.42 1885.86,-416.26 1888.07,-422.9\"/>\n</g>\n<!-- 26 -->\n<g id=\"node27\" class=\"node\">\n<title>26</title>\n<path fill=\"#e58139\" stroke=\"black\" d=\"M1610,-298.5C1610,-298.5 1487,-298.5 1487,-298.5 1481,-298.5 1475,-292.5 1475,-286.5 1475,-286.5 1475,-242.5 1475,-242.5 1475,-236.5 1481,-230.5 1487,-230.5 1487,-230.5 1610,-230.5 1610,-230.5 1616,-230.5 1622,-236.5 1622,-242.5 1622,-242.5 1622,-286.5 1622,-286.5 1622,-292.5 1616,-298.5 1610,-298.5\"/>\n<text text-anchor=\"middle\" x=\"1548.5\" y=\"-283.3\" font-family=\"Helvetica,sans-Serif\" font-size=\"14.00\">gini = &#45;0.0</text>\n<text text-anchor=\"middle\" x=\"1548.5\" y=\"-268.3\" font-family=\"Helvetica,sans-Serif\" font-size=\"14.00\">samples = 637</text>\n<text text-anchor=\"middle\" x=\"1548.5\" y=\"-253.3\" font-family=\"Helvetica,sans-Serif\" font-size=\"14.00\">value = [319.051, 0.0]</text>\n<text text-anchor=\"middle\" x=\"1548.5\" y=\"-238.3\" font-family=\"Helvetica,sans-Serif\" font-size=\"14.00\">class = 0</text>\n</g>\n<!-- 25&#45;&gt;26 -->\n<g id=\"edge26\" class=\"edge\">\n<title>25&#45;&gt;26</title>\n<path fill=\"none\" stroke=\"black\" d=\"M1608.58,-341.91C1599.64,-330.54 1589.92,-318.18 1580.95,-306.77\"/>\n<polygon fill=\"black\" stroke=\"black\" points=\"1583.51,-304.36 1574.58,-298.67 1578.01,-308.69 1583.51,-304.36\"/>\n</g>\n<!-- 27 -->\n<g id=\"node28\" class=\"node\">\n<title>27</title>\n<path fill=\"#3e9fe6\" stroke=\"black\" d=\"M1813,-298.5C1813,-298.5 1652,-298.5 1652,-298.5 1646,-298.5 1640,-292.5 1640,-286.5 1640,-286.5 1640,-242.5 1640,-242.5 1640,-236.5 1646,-230.5 1652,-230.5 1652,-230.5 1813,-230.5 1813,-230.5 1819,-230.5 1825,-236.5 1825,-242.5 1825,-242.5 1825,-286.5 1825,-286.5 1825,-292.5 1819,-298.5 1813,-298.5\"/>\n<text text-anchor=\"middle\" x=\"1732.5\" y=\"-283.3\" font-family=\"Helvetica,sans-Serif\" font-size=\"14.00\">gini = 0.044</text>\n<text text-anchor=\"middle\" x=\"1732.5\" y=\"-268.3\" font-family=\"Helvetica,sans-Serif\" font-size=\"14.00\">samples = 332</text>\n<text text-anchor=\"middle\" x=\"1732.5\" y=\"-253.3\" font-family=\"Helvetica,sans-Serif\" font-size=\"14.00\">value = [154.767, 6664.785]</text>\n<text text-anchor=\"middle\" x=\"1732.5\" y=\"-238.3\" font-family=\"Helvetica,sans-Serif\" font-size=\"14.00\">class = 1</text>\n</g>\n<!-- 25&#45;&gt;27 -->\n<g id=\"edge27\" class=\"edge\">\n<title>25&#45;&gt;27</title>\n<path fill=\"none\" stroke=\"black\" d=\"M1672.42,-341.91C1681.36,-330.54 1691.08,-318.18 1700.05,-306.77\"/>\n<polygon fill=\"black\" stroke=\"black\" points=\"1702.99,-308.69 1706.42,-298.67 1697.49,-304.36 1702.99,-308.69\"/>\n</g>\n<!-- 29 -->\n<g id=\"node30\" class=\"node\">\n<title>29</title>\n<path fill=\"#e68640\" stroke=\"black\" d=\"M2080.5,-306C2080.5,-306 1904.5,-306 1904.5,-306 1898.5,-306 1892.5,-300 1892.5,-294 1892.5,-294 1892.5,-235 1892.5,-235 1892.5,-229 1898.5,-223 1904.5,-223 1904.5,-223 2080.5,-223 2080.5,-223 2086.5,-223 2092.5,-229 2092.5,-235 2092.5,-235 2092.5,-294 2092.5,-294 2092.5,-300 2086.5,-306 2080.5,-306\"/>\n<text text-anchor=\"middle\" x=\"1992.5\" y=\"-290.8\" font-family=\"Helvetica,sans-Serif\" font-size=\"14.00\">V20 &lt;= &#45;0.04</text>\n<text text-anchor=\"middle\" x=\"1992.5\" y=\"-275.8\" font-family=\"Helvetica,sans-Serif\" font-size=\"14.00\">gini = 0.068</text>\n<text text-anchor=\"middle\" x=\"1992.5\" y=\"-260.8\" font-family=\"Helvetica,sans-Serif\" font-size=\"14.00\">samples = 142334</text>\n<text text-anchor=\"middle\" x=\"1992.5\" y=\"-245.8\" font-family=\"Helvetica,sans-Serif\" font-size=\"14.00\">value = [71285.502, 2607.959]</text>\n<text text-anchor=\"middle\" x=\"1992.5\" y=\"-230.8\" font-family=\"Helvetica,sans-Serif\" font-size=\"14.00\">class = 0</text>\n</g>\n<!-- 28&#45;&gt;29 -->\n<g id=\"edge29\" class=\"edge\">\n<title>28&#45;&gt;29</title>\n<path fill=\"none\" stroke=\"black\" d=\"M1992.5,-341.91C1992.5,-333.65 1992.5,-324.86 1992.5,-316.3\"/>\n<polygon fill=\"black\" stroke=\"black\" points=\"1996,-316.02 1992.5,-306.02 1989,-316.02 1996,-316.02\"/>\n</g>\n<!-- 36 -->\n<g id=\"node37\" class=\"node\">\n<title>36</title>\n<path fill=\"#eeaf81\" stroke=\"black\" d=\"M2651.5,-306C2651.5,-306 2475.5,-306 2475.5,-306 2469.5,-306 2463.5,-300 2463.5,-294 2463.5,-294 2463.5,-235 2463.5,-235 2463.5,-229 2469.5,-223 2475.5,-223 2475.5,-223 2651.5,-223 2651.5,-223 2657.5,-223 2663.5,-229 2663.5,-235 2663.5,-235 2663.5,-294 2663.5,-294 2663.5,-300 2657.5,-306 2651.5,-306\"/>\n<text text-anchor=\"middle\" x=\"2563.5\" y=\"-290.8\" font-family=\"Helvetica,sans-Serif\" font-size=\"14.00\">V26 &lt;= &#45;0.023</text>\n<text text-anchor=\"middle\" x=\"2563.5\" y=\"-275.8\" font-family=\"Helvetica,sans-Serif\" font-size=\"14.00\">gini = 0.39</text>\n<text text-anchor=\"middle\" x=\"2563.5\" y=\"-260.8\" font-family=\"Helvetica,sans-Serif\" font-size=\"14.00\">samples = 28815</text>\n<text text-anchor=\"middle\" x=\"2563.5\" y=\"-245.8\" font-family=\"Helvetica,sans-Serif\" font-size=\"14.00\">value = [14423.387, 5215.919]</text>\n<text text-anchor=\"middle\" x=\"2563.5\" y=\"-230.8\" font-family=\"Helvetica,sans-Serif\" font-size=\"14.00\">class = 0</text>\n</g>\n<!-- 28&#45;&gt;36 -->\n<g id=\"edge36\" class=\"edge\">\n<title>28&#45;&gt;36</title>\n<path fill=\"none\" stroke=\"black\" d=\"M2088.72,-362.78C2189.4,-342.15 2347.25,-309.81 2452.98,-288.15\"/>\n<polygon fill=\"black\" stroke=\"black\" points=\"2453.95,-291.52 2463.04,-286.08 2452.54,-284.66 2453.95,-291.52\"/>\n</g>\n<!-- 30 -->\n<g id=\"node31\" class=\"node\">\n<title>30</title>\n<path fill=\"#f4c9aa\" stroke=\"black\" d=\"M1969,-187C1969,-187 1808,-187 1808,-187 1802,-187 1796,-181 1796,-175 1796,-175 1796,-116 1796,-116 1796,-110 1802,-104 1808,-104 1808,-104 1969,-104 1969,-104 1975,-104 1981,-110 1981,-116 1981,-116 1981,-175 1981,-175 1981,-181 1975,-187 1969,-187\"/>\n<text text-anchor=\"middle\" x=\"1888.5\" y=\"-171.8\" font-family=\"Helvetica,sans-Serif\" font-size=\"14.00\">V14 &lt;= &#45;0.028</text>\n<text text-anchor=\"middle\" x=\"1888.5\" y=\"-156.8\" font-family=\"Helvetica,sans-Serif\" font-size=\"14.00\">gini = 0.463</text>\n<text text-anchor=\"middle\" x=\"1888.5\" y=\"-141.8\" font-family=\"Helvetica,sans-Serif\" font-size=\"14.00\">samples = 6063</text>\n<text text-anchor=\"middle\" x=\"1888.5\" y=\"-126.8\" font-family=\"Helvetica,sans-Serif\" font-size=\"14.00\">value = [3033.735, 1738.64]</text>\n<text text-anchor=\"middle\" x=\"1888.5\" y=\"-111.8\" font-family=\"Helvetica,sans-Serif\" font-size=\"14.00\">class = 0</text>\n</g>\n<!-- 29&#45;&gt;30 -->\n<g id=\"edge30\" class=\"edge\">\n<title>29&#45;&gt;30</title>\n<path fill=\"none\" stroke=\"black\" d=\"M1956.42,-222.91C1948.35,-213.83 1939.72,-204.12 1931.41,-194.77\"/>\n<polygon fill=\"black\" stroke=\"black\" points=\"1933.78,-192.17 1924.52,-187.02 1928.55,-196.82 1933.78,-192.17\"/>\n</g>\n<!-- 33 -->\n<g id=\"node34\" class=\"node\">\n<title>33</title>\n<path fill=\"#e5833c\" stroke=\"black\" d=\"M2172,-187C2172,-187 2011,-187 2011,-187 2005,-187 1999,-181 1999,-175 1999,-175 1999,-116 1999,-116 1999,-110 2005,-104 2011,-104 2011,-104 2172,-104 2172,-104 2178,-104 2184,-110 2184,-116 2184,-116 2184,-175 2184,-175 2184,-181 2178,-187 2172,-187\"/>\n<text text-anchor=\"middle\" x=\"2091.5\" y=\"-171.8\" font-family=\"Helvetica,sans-Serif\" font-size=\"14.00\">Amount &lt;= 0.173</text>\n<text text-anchor=\"middle\" x=\"2091.5\" y=\"-156.8\" font-family=\"Helvetica,sans-Serif\" font-size=\"14.00\">gini = 0.025</text>\n<text text-anchor=\"middle\" x=\"2091.5\" y=\"-141.8\" font-family=\"Helvetica,sans-Serif\" font-size=\"14.00\">samples = 136271</text>\n<text text-anchor=\"middle\" x=\"2091.5\" y=\"-126.8\" font-family=\"Helvetica,sans-Serif\" font-size=\"14.00\">value = [68251.768, 869.32]</text>\n<text text-anchor=\"middle\" x=\"2091.5\" y=\"-111.8\" font-family=\"Helvetica,sans-Serif\" font-size=\"14.00\">class = 0</text>\n</g>\n<!-- 29&#45;&gt;33 -->\n<g id=\"edge33\" class=\"edge\">\n<title>29&#45;&gt;33</title>\n<path fill=\"none\" stroke=\"black\" d=\"M2026.85,-222.91C2034.53,-213.83 2042.74,-204.12 2050.66,-194.77\"/>\n<polygon fill=\"black\" stroke=\"black\" points=\"2053.43,-196.92 2057.21,-187.02 2048.08,-192.39 2053.43,-196.92\"/>\n</g>\n<!-- 31 -->\n<g id=\"node32\" class=\"node\">\n<title>31</title>\n<path fill=\"#65b3eb\" stroke=\"black\" d=\"M1766,-68C1766,-68 1605,-68 1605,-68 1599,-68 1593,-62 1593,-56 1593,-56 1593,-12 1593,-12 1593,-6 1599,0 1605,0 1605,0 1766,0 1766,0 1772,0 1778,-6 1778,-12 1778,-12 1778,-56 1778,-56 1778,-62 1772,-68 1766,-68\"/>\n<text text-anchor=\"middle\" x=\"1685.5\" y=\"-52.8\" font-family=\"Helvetica,sans-Serif\" font-size=\"14.00\">gini = 0.297</text>\n<text text-anchor=\"middle\" x=\"1685.5\" y=\"-37.8\" font-family=\"Helvetica,sans-Serif\" font-size=\"14.00\">samples = 646</text>\n<text text-anchor=\"middle\" x=\"1685.5\" y=\"-22.8\" font-family=\"Helvetica,sans-Serif\" font-size=\"14.00\">value = [321.054, 1448.866]</text>\n<text text-anchor=\"middle\" x=\"1685.5\" y=\"-7.8\" font-family=\"Helvetica,sans-Serif\" font-size=\"14.00\">class = 1</text>\n</g>\n<!-- 30&#45;&gt;31 -->\n<g id=\"edge31\" class=\"edge\">\n<title>30&#45;&gt;31</title>\n<path fill=\"none\" stroke=\"black\" d=\"M1813.2,-103.88C1794.39,-93.73 1774.29,-82.89 1755.73,-72.88\"/>\n<polygon fill=\"black\" stroke=\"black\" points=\"1757.22,-69.71 1746.76,-68.04 1753.9,-75.87 1757.22,-69.71\"/>\n</g>\n<!-- 32 -->\n<g id=\"node33\" class=\"node\">\n<title>32</title>\n<path fill=\"#e88e4e\" stroke=\"black\" d=\"M1969,-68C1969,-68 1808,-68 1808,-68 1802,-68 1796,-62 1796,-56 1796,-56 1796,-12 1796,-12 1796,-6 1802,0 1808,0 1808,0 1969,0 1969,0 1975,0 1981,-6 1981,-12 1981,-12 1981,-56 1981,-56 1981,-62 1975,-68 1969,-68\"/>\n<text text-anchor=\"middle\" x=\"1888.5\" y=\"-52.8\" font-family=\"Helvetica,sans-Serif\" font-size=\"14.00\">gini = 0.174</text>\n<text text-anchor=\"middle\" x=\"1888.5\" y=\"-37.8\" font-family=\"Helvetica,sans-Serif\" font-size=\"14.00\">samples = 5417</text>\n<text text-anchor=\"middle\" x=\"1888.5\" y=\"-22.8\" font-family=\"Helvetica,sans-Serif\" font-size=\"14.00\">value = [2712.681, 289.773]</text>\n<text text-anchor=\"middle\" x=\"1888.5\" y=\"-7.8\" font-family=\"Helvetica,sans-Serif\" font-size=\"14.00\">class = 0</text>\n</g>\n<!-- 30&#45;&gt;32 -->\n<g id=\"edge32\" class=\"edge\">\n<title>30&#45;&gt;32</title>\n<path fill=\"none\" stroke=\"black\" d=\"M1888.5,-103.73C1888.5,-95.52 1888.5,-86.86 1888.5,-78.56\"/>\n<polygon fill=\"black\" stroke=\"black\" points=\"1892,-78.3 1888.5,-68.3 1885,-78.3 1892,-78.3\"/>\n</g>\n<!-- 34 -->\n<g id=\"node35\" class=\"node\">\n<title>34</title>\n<path fill=\"#e5823b\" stroke=\"black\" d=\"M2172,-68C2172,-68 2011,-68 2011,-68 2005,-68 1999,-62 1999,-56 1999,-56 1999,-12 1999,-12 1999,-6 2005,0 2011,0 2011,0 2172,0 2172,0 2178,0 2184,-6 2184,-12 2184,-12 2184,-56 2184,-56 2184,-62 2178,-68 2172,-68\"/>\n<text text-anchor=\"middle\" x=\"2091.5\" y=\"-52.8\" font-family=\"Helvetica,sans-Serif\" font-size=\"14.00\">gini = 0.017</text>\n<text text-anchor=\"middle\" x=\"2091.5\" y=\"-37.8\" font-family=\"Helvetica,sans-Serif\" font-size=\"14.00\">samples = 135972</text>\n<text text-anchor=\"middle\" x=\"2091.5\" y=\"-22.8\" font-family=\"Helvetica,sans-Serif\" font-size=\"14.00\">value = [68102.51, 579.547]</text>\n<text text-anchor=\"middle\" x=\"2091.5\" y=\"-7.8\" font-family=\"Helvetica,sans-Serif\" font-size=\"14.00\">class = 0</text>\n</g>\n<!-- 33&#45;&gt;34 -->\n<g id=\"edge34\" class=\"edge\">\n<title>33&#45;&gt;34</title>\n<path fill=\"none\" stroke=\"black\" d=\"M2091.5,-103.73C2091.5,-95.52 2091.5,-86.86 2091.5,-78.56\"/>\n<polygon fill=\"black\" stroke=\"black\" points=\"2095,-78.3 2091.5,-68.3 2088,-78.3 2095,-78.3\"/>\n</g>\n<!-- 35 -->\n<g id=\"node36\" class=\"node\">\n<title>35</title>\n<path fill=\"#9fcff2\" stroke=\"black\" d=\"M2367,-68C2367,-68 2214,-68 2214,-68 2208,-68 2202,-62 2202,-56 2202,-56 2202,-12 2202,-12 2202,-6 2208,0 2214,0 2214,0 2367,0 2367,0 2373,0 2379,-6 2379,-12 2379,-12 2379,-56 2379,-56 2379,-62 2373,-68 2367,-68\"/>\n<text text-anchor=\"middle\" x=\"2290.5\" y=\"-52.8\" font-family=\"Helvetica,sans-Serif\" font-size=\"14.00\">gini = 0.449</text>\n<text text-anchor=\"middle\" x=\"2290.5\" y=\"-37.8\" font-family=\"Helvetica,sans-Serif\" font-size=\"14.00\">samples = 299</text>\n<text text-anchor=\"middle\" x=\"2290.5\" y=\"-22.8\" font-family=\"Helvetica,sans-Serif\" font-size=\"14.00\">value = [149.258, 289.773]</text>\n<text text-anchor=\"middle\" x=\"2290.5\" y=\"-7.8\" font-family=\"Helvetica,sans-Serif\" font-size=\"14.00\">class = 1</text>\n</g>\n<!-- 33&#45;&gt;35 -->\n<g id=\"edge35\" class=\"edge\">\n<title>33&#45;&gt;35</title>\n<path fill=\"none\" stroke=\"black\" d=\"M2165.32,-103.88C2183.76,-93.73 2203.46,-82.89 2221.65,-72.88\"/>\n<polygon fill=\"black\" stroke=\"black\" points=\"2223.37,-75.93 2230.45,-68.04 2220,-69.8 2223.37,-75.93\"/>\n</g>\n<!-- 37 -->\n<g id=\"node38\" class=\"node\">\n<title>37</title>\n<path fill=\"#e68540\" stroke=\"black\" d=\"M2644,-187C2644,-187 2483,-187 2483,-187 2477,-187 2471,-181 2471,-175 2471,-175 2471,-116 2471,-116 2471,-110 2477,-104 2483,-104 2483,-104 2644,-104 2644,-104 2650,-104 2656,-110 2656,-116 2656,-116 2656,-175 2656,-175 2656,-181 2650,-187 2644,-187\"/>\n<text text-anchor=\"middle\" x=\"2563.5\" y=\"-171.8\" font-family=\"Helvetica,sans-Serif\" font-size=\"14.00\">V13 &lt;= 0.118</text>\n<text text-anchor=\"middle\" x=\"2563.5\" y=\"-156.8\" font-family=\"Helvetica,sans-Serif\" font-size=\"14.00\">gini = 0.065</text>\n<text text-anchor=\"middle\" x=\"2563.5\" y=\"-141.8\" font-family=\"Helvetica,sans-Serif\" font-size=\"14.00\">samples = 16648</text>\n<text text-anchor=\"middle\" x=\"2563.5\" y=\"-126.8\" font-family=\"Helvetica,sans-Serif\" font-size=\"14.00\">value = [8337.887, 289.773]</text>\n<text text-anchor=\"middle\" x=\"2563.5\" y=\"-111.8\" font-family=\"Helvetica,sans-Serif\" font-size=\"14.00\">class = 0</text>\n</g>\n<!-- 36&#45;&gt;37 -->\n<g id=\"edge37\" class=\"edge\">\n<title>36&#45;&gt;37</title>\n<path fill=\"none\" stroke=\"black\" d=\"M2563.5,-222.91C2563.5,-214.65 2563.5,-205.86 2563.5,-197.3\"/>\n<polygon fill=\"black\" stroke=\"black\" points=\"2567,-197.02 2563.5,-187.02 2560,-197.02 2567,-197.02\"/>\n</g>\n<!-- 40 -->\n<g id=\"node41\" class=\"node\">\n<title>40</title>\n<path fill=\"#fae7d9\" stroke=\"black\" d=\"M2928,-187C2928,-187 2775,-187 2775,-187 2769,-187 2763,-181 2763,-175 2763,-175 2763,-116 2763,-116 2763,-110 2769,-104 2775,-104 2775,-104 2928,-104 2928,-104 2934,-104 2940,-110 2940,-116 2940,-116 2940,-175 2940,-175 2940,-181 2934,-187 2928,-187\"/>\n<text text-anchor=\"middle\" x=\"2851.5\" y=\"-171.8\" font-family=\"Helvetica,sans-Serif\" font-size=\"14.00\">V21 &lt;= &#45;0.016</text>\n<text text-anchor=\"middle\" x=\"2851.5\" y=\"-156.8\" font-family=\"Helvetica,sans-Serif\" font-size=\"14.00\">gini = 0.494</text>\n<text text-anchor=\"middle\" x=\"2851.5\" y=\"-141.8\" font-family=\"Helvetica,sans-Serif\" font-size=\"14.00\">samples = 12167</text>\n<text text-anchor=\"middle\" x=\"2851.5\" y=\"-126.8\" font-family=\"Helvetica,sans-Serif\" font-size=\"14.00\">value = [6085.5, 4926.145]</text>\n<text text-anchor=\"middle\" x=\"2851.5\" y=\"-111.8\" font-family=\"Helvetica,sans-Serif\" font-size=\"14.00\">class = 0</text>\n</g>\n<!-- 36&#45;&gt;40 -->\n<g id=\"edge40\" class=\"edge\">\n<title>36&#45;&gt;40</title>\n<path fill=\"none\" stroke=\"black\" d=\"M2663.42,-222.91C2692.59,-211.06 2724.44,-198.12 2753.49,-186.32\"/>\n<polygon fill=\"black\" stroke=\"black\" points=\"2754.87,-189.53 2762.82,-182.53 2752.24,-183.05 2754.87,-189.53\"/>\n</g>\n<!-- 38 -->\n<g id=\"node39\" class=\"node\">\n<title>38</title>\n<path fill=\"#e58139\" stroke=\"black\" d=\"M2540,-68C2540,-68 2409,-68 2409,-68 2403,-68 2397,-62 2397,-56 2397,-56 2397,-12 2397,-12 2397,-6 2403,0 2409,0 2409,0 2540,0 2540,0 2546,0 2552,-6 2552,-12 2552,-12 2552,-56 2552,-56 2552,-62 2546,-68 2540,-68\"/>\n<text text-anchor=\"middle\" x=\"2474.5\" y=\"-52.8\" font-family=\"Helvetica,sans-Serif\" font-size=\"14.00\">gini = 0.0</text>\n<text text-anchor=\"middle\" x=\"2474.5\" y=\"-37.8\" font-family=\"Helvetica,sans-Serif\" font-size=\"14.00\">samples = 16392</text>\n<text text-anchor=\"middle\" x=\"2474.5\" y=\"-22.8\" font-family=\"Helvetica,sans-Serif\" font-size=\"14.00\">value = [8210.167, 0.0]</text>\n<text text-anchor=\"middle\" x=\"2474.5\" y=\"-7.8\" font-family=\"Helvetica,sans-Serif\" font-size=\"14.00\">class = 0</text>\n</g>\n<!-- 37&#45;&gt;38 -->\n<g id=\"edge38\" class=\"edge\">\n<title>37&#45;&gt;38</title>\n<path fill=\"none\" stroke=\"black\" d=\"M2530.36,-103.73C2523.02,-94.7 2515.24,-85.12 2507.89,-76.08\"/>\n<polygon fill=\"black\" stroke=\"black\" points=\"2510.59,-73.85 2501.57,-68.3 2505.16,-78.27 2510.59,-73.85\"/>\n</g>\n<!-- 39 -->\n<g id=\"node40\" class=\"node\">\n<title>39</title>\n<path fill=\"#90c8f0\" stroke=\"black\" d=\"M2728.5,-68C2728.5,-68 2582.5,-68 2582.5,-68 2576.5,-68 2570.5,-62 2570.5,-56 2570.5,-56 2570.5,-12 2570.5,-12 2570.5,-6 2576.5,0 2582.5,0 2582.5,0 2728.5,0 2728.5,0 2734.5,0 2740.5,-6 2740.5,-12 2740.5,-12 2740.5,-56 2740.5,-56 2740.5,-62 2734.5,-68 2728.5,-68\"/>\n<text text-anchor=\"middle\" x=\"2655.5\" y=\"-52.8\" font-family=\"Helvetica,sans-Serif\" font-size=\"14.00\">gini = 0.425</text>\n<text text-anchor=\"middle\" x=\"2655.5\" y=\"-37.8\" font-family=\"Helvetica,sans-Serif\" font-size=\"14.00\">samples = 256</text>\n<text text-anchor=\"middle\" x=\"2655.5\" y=\"-22.8\" font-family=\"Helvetica,sans-Serif\" font-size=\"14.00\">value = [127.72, 289.773]</text>\n<text text-anchor=\"middle\" x=\"2655.5\" y=\"-7.8\" font-family=\"Helvetica,sans-Serif\" font-size=\"14.00\">class = 1</text>\n</g>\n<!-- 37&#45;&gt;39 -->\n<g id=\"edge39\" class=\"edge\">\n<title>37&#45;&gt;39</title>\n<path fill=\"none\" stroke=\"black\" d=\"M2597.76,-103.73C2605.34,-94.7 2613.39,-85.12 2620.98,-76.08\"/>\n<polygon fill=\"black\" stroke=\"black\" points=\"2623.77,-78.21 2627.52,-68.3 2618.41,-73.7 2623.77,-78.21\"/>\n</g>\n<!-- 41 -->\n<g id=\"node42\" class=\"node\">\n<title>41</title>\n<path fill=\"#6bb6ec\" stroke=\"black\" d=\"M2932,-68C2932,-68 2771,-68 2771,-68 2765,-68 2759,-62 2759,-56 2759,-56 2759,-12 2759,-12 2759,-6 2765,0 2771,0 2771,0 2932,0 2932,0 2938,0 2944,-6 2944,-12 2944,-12 2944,-56 2944,-56 2944,-62 2938,-68 2932,-68\"/>\n<text text-anchor=\"middle\" x=\"2851.5\" y=\"-52.8\" font-family=\"Helvetica,sans-Serif\" font-size=\"14.00\">gini = 0.322</text>\n<text text-anchor=\"middle\" x=\"2851.5\" y=\"-37.8\" font-family=\"Helvetica,sans-Serif\" font-size=\"14.00\">samples = 1474</text>\n<text text-anchor=\"middle\" x=\"2851.5\" y=\"-22.8\" font-family=\"Helvetica,sans-Serif\" font-size=\"14.00\">value = [733.265, 2897.733]</text>\n<text text-anchor=\"middle\" x=\"2851.5\" y=\"-7.8\" font-family=\"Helvetica,sans-Serif\" font-size=\"14.00\">class = 1</text>\n</g>\n<!-- 40&#45;&gt;41 -->\n<g id=\"edge41\" class=\"edge\">\n<title>40&#45;&gt;41</title>\n<path fill=\"none\" stroke=\"black\" d=\"M2851.5,-103.73C2851.5,-95.52 2851.5,-86.86 2851.5,-78.56\"/>\n<polygon fill=\"black\" stroke=\"black\" points=\"2855,-78.3 2851.5,-68.3 2848,-78.3 2855,-78.3\"/>\n</g>\n<!-- 42 -->\n<g id=\"node43\" class=\"node\">\n<title>42</title>\n<path fill=\"#efb184\" stroke=\"black\" d=\"M3142.5,-68C3142.5,-68 2974.5,-68 2974.5,-68 2968.5,-68 2962.5,-62 2962.5,-56 2962.5,-56 2962.5,-12 2962.5,-12 2962.5,-6 2968.5,0 2974.5,0 2974.5,0 3142.5,0 3142.5,0 3148.5,0 3154.5,-6 3154.5,-12 3154.5,-12 3154.5,-56 3154.5,-56 3154.5,-62 3148.5,-68 3142.5,-68\"/>\n<text text-anchor=\"middle\" x=\"3058.5\" y=\"-52.8\" font-family=\"Helvetica,sans-Serif\" font-size=\"14.00\">gini = 0.399</text>\n<text text-anchor=\"middle\" x=\"3058.5\" y=\"-37.8\" font-family=\"Helvetica,sans-Serif\" font-size=\"14.00\">samples = 10693</text>\n<text text-anchor=\"middle\" x=\"3058.5\" y=\"-22.8\" font-family=\"Helvetica,sans-Serif\" font-size=\"14.00\">value = [5352.235, 2028.413]</text>\n<text text-anchor=\"middle\" x=\"3058.5\" y=\"-7.8\" font-family=\"Helvetica,sans-Serif\" font-size=\"14.00\">class = 0</text>\n</g>\n<!-- 40&#45;&gt;42 -->\n<g id=\"edge42\" class=\"edge\">\n<title>40&#45;&gt;42</title>\n<path fill=\"none\" stroke=\"black\" d=\"M2928.28,-103.88C2947.55,-93.69 2968.15,-82.79 2987.14,-72.75\"/>\n<polygon fill=\"black\" stroke=\"black\" points=\"2988.83,-75.81 2996.03,-68.04 2985.56,-69.63 2988.83,-75.81\"/>\n</g>\n</g>\n</svg>\n",
            "text/plain": [
              "<graphviz.sources.Source at 0x7893f45ff370>"
            ]
          },
          "metadata": {},
          "execution_count": 33
        }
      ]
    },
    {
      "cell_type": "markdown",
      "source": [
        "Arbol de Decision Snap ML"
      ],
      "metadata": {
        "id": "kbvSHS-E3Ao7"
      }
    },
    {
      "cell_type": "code",
      "source": [
        "pred_snapml_dt = snapml_dt.predict(X_test)\n",
        "print(\"Reporte de Clasificacion: \\n\", classification_report(y_test, pred_snapml_dt))"
      ],
      "metadata": {
        "colab": {
          "base_uri": "https://localhost:8080/"
        },
        "id": "Rc5n9PNs3WzE",
        "outputId": "33084017-982c-4d7b-fbca-fa31216c78f7"
      },
      "execution_count": null,
      "outputs": [
        {
          "output_type": "stream",
          "name": "stdout",
          "text": [
            "Reporte de Clasificacion: \n",
            "               precision    recall  f1-score   support\n",
            "\n",
            "         0.0       1.00      0.98      0.99     85295\n",
            "         1.0       0.07      0.82      0.13       148\n",
            "\n",
            "    accuracy                           0.98     85443\n",
            "   macro avg       0.54      0.90      0.56     85443\n",
            "weighted avg       1.00      0.98      0.99     85443\n",
            "\n"
          ]
        }
      ]
    },
    {
      "cell_type": "code",
      "source": [
        "plot_confusion_matrix(y_test, pred_snapml_dt, labels=labels, model_name=\"Árbol de Decisión Snap ML\")"
      ],
      "metadata": {
        "colab": {
          "base_uri": "https://localhost:8080/",
          "height": 474
        },
        "id": "Q8iWzQJm3f55",
        "outputId": "9270c1fe-da65-4e50-b357-7cbbf4902976"
      },
      "execution_count": null,
      "outputs": [
        {
          "output_type": "display_data",
          "data": {
            "text/plain": [
              "<Figure size 640x480 with 2 Axes>"
            ],
            "image/png": "[encoded data removed]"
          },
          "metadata": {}
        }
      ]
    },
    {
      "cell_type": "markdown",
      "source": [
        "Snap ML no permite graficar el arbol de decision utilizando Graphviz como en el caso de SciKit-Learn"
      ],
      "metadata": {
        "id": "-n4sj0dPJefg"
      }
    }
  ]
}